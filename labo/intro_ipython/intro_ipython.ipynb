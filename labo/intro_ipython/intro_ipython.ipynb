{
 "cells": [
  {
   "cell_type": "markdown",
   "metadata": {},
   "source": [
    "# LFA - Laboratoire 0\n",
    "## Introduction to python\n",
    "\n",
    "<i> Modified from lab-1 MLBD, courtesy of Julien Rebetez, Aitana Lebrand. </i>\n",
    "- Professeur: Carlos Peña (<a href=\"mailto:carlos.pena@heig-vd.ch\">carlos.pena@heig-vd.ch</a>)\n",
    "- Assistant: Héctor Satizábal (<a href=\"mailto:hector-fabio.satizaba-mejia@heig-vd.ch\">hector-fabio.satizaba-mejia@heig-vd.ch</a>)\n",
    "\n",
    "Date: Printemps 2016"
   ]
  },
  {
   "cell_type": "markdown",
   "metadata": {},
   "source": [
    "> Throughout the laboratories, questions that you should answer are highlighted as follow :\n",
    "> <p style=\"background-color:#AFEEEE;padding:3px\"><font size=\"4\"><b>0. </b></font> This is a question.</p>"
   ]
  },
  {
   "cell_type": "markdown",
   "metadata": {},
   "source": [
    "## 1. Introduction to IPython notebooks"
   ]
  },
  {
   "cell_type": "markdown",
   "metadata": {},
   "source": [
    "In this laboratory you are going to learn how to perform interactive computing using **IPython**. **IPython** is an interactive shell for python that has more functionnalities than the basic one. This guide does not start from the basics of the general purpose language **python**. If you do not know this language, it is recommended to follow a **python** tutorial in order to learn the basic concepts and commands. You can have a look at the [official python tutorial](https://docs.python.org/2/tutorial/) or [Google's python tutorial](https://developers.google.com/edu/python/) for example.\n",
    "\n",
    "Note that for this course, we will use the Python 2.7.X series. (Important: do not use Python 3.5.X as it will require performing many adaptations to the current version of the laboratories)\n",
    "\n",
    "You will use a browser-based notebook to interactively explore a dataset by:\n",
    "- Reading raw data from ascii files\n",
    "- Reading typed data (data frames) from ascii files\n",
    "- Selecting specific columns and/or rows from a dataset\n",
    "- Filtering datasets\n",
    "- Plotting the information in the dataset (e.g., scatter-plot, boxplot, histogram)"
   ]
  },
  {
   "cell_type": "markdown",
   "metadata": {},
   "source": [
    "### Using the notebooks"
   ]
  },
  {
   "cell_type": "markdown",
   "metadata": {},
   "source": [
    "You are in an IPython notebook right now. An IPython notebook is a web interface to a Python interpreter.\n",
    "\n",
    "A notebook is made of cells. Each cell has a type which defines what happens when it is run. \n",
    "\n",
    "- Markdown cells allow you to write [Markdown](http://daringfireball.net/projects/markdown/) text in them. They are just displayed as HTML when run.\n",
    "- Code cells contain python code. When the cell is run, the code is sent to the python interpreter, executed and you get the result in the cell output.\n",
    "- Various header cells that allow you to structure your document.\n",
    "\n",
    "You can change the type of a cell using the drop-down menu in the toolbar.\n",
    "\n",
    "You can click (for Code cells) or double-click (for headers and markdown cells) on cells to edit their content. You can then use keyboard shortcuts to run them :\n",
    "\n",
    "- Ctrl + Enter : run in place\n",
    "- Shift + Enter : run and move to next cell\n",
    "- Alt + Enter : run and insert new cell after"
   ]
  },
  {
   "cell_type": "code",
   "execution_count": 2,
   "metadata": {
    "collapsed": false
   },
   "outputs": [
    {
     "name": "stdout",
     "output_type": "stream",
     "text": [
      "4\n"
     ]
    }
   ],
   "source": [
    "# This is a code cell containing python code !\n",
    "print(2+2)"
   ]
  },
  {
   "cell_type": "markdown",
   "metadata": {},
   "source": [
    "The python interpreter that executes the code you write in the notebook is called a *Kernel*. You can restart the kernel (the interpreter) using the *Kernel* menu. This is useful if you want to delete all your variables."
   ]
  },
  {
   "cell_type": "markdown",
   "metadata": {},
   "source": [
    "Ipython has also \"magic\" functions that start with % . They allow you to do a lot of useful things with your ipython environment :\n",
    "\n",
    "http://nbviewer.ipython.org/github/ipython/ipython/blob/1.x/examples/notebooks/Cell%20Magics.ipynb\n",
    "\n",
    "The %who magic gives you a list of the defined python variables. object? can be used to get documentation about an object :"
   ]
  },
  {
   "cell_type": "code",
   "execution_count": 3,
   "metadata": {
    "collapsed": false
   },
   "outputs": [
    {
     "name": "stdout",
     "output_type": "stream",
     "text": [
      "a\t \n"
     ]
    }
   ],
   "source": [
    "a = 2\n",
    "%who"
   ]
  },
  {
   "cell_type": "code",
   "execution_count": 4,
   "metadata": {
    "collapsed": false
   },
   "outputs": [
    {
     "name": "stdout",
     "output_type": "stream",
     "text": [
      "3\n",
      "This is the traditional python help() function :\n",
      "\n",
      "Help on function my_documented_function in module __main__:\n",
      "\n",
      "my_documented_function(a)\n",
      "    This is a revolutionary function that returns a + 1\n",
      "\n",
      "End of help() command output \n",
      "\n"
     ]
    }
   ],
   "source": [
    "def my_documented_function(a):\n",
    "    \"\"\"This is a revolutionary function that returns a + 1\"\"\"\n",
    "    return a + 1\n",
    "\n",
    "print(my_documented_function(2))\n",
    "print('This is the traditional python help() function :\\n')\n",
    "help(my_documented_function)\n",
    "print('End of help() command output \\n')\n",
    "\n",
    "# We can access the same info with just ? (note that you have to run this cell to view the effect).\n",
    "my_documented_function?\n",
    "# The output may be provided in a separate pane in your browser"
   ]
  },
  {
   "cell_type": "markdown",
   "metadata": {},
   "source": [
    "## 2. Scientific computing with NumPy"
   ]
  },
  {
   "cell_type": "markdown",
   "metadata": {},
   "source": [
    "Python has a number of packages (libraries) dedicated to scientific programming :\n",
    "\n",
    "The foundation is [numpy](http://www.numpy.org/) which provides a N-dimensional array implementation with a nice indexing syntax (similar to MATLAB).\n",
    "\n",
    "Then comes [scipy](http://www.scipy.org/) which contains a number of algorithms (signal processing, distance computation, etc...) built on top of numpy.\n",
    "\n",
    "[matplotlib](http://matplotlib.org/) is a library to create 2D plots.\n",
    "\n",
    "[pandas](http://pandas.pydata.org/) provides a DataFrame implementation, which is a layer on top of numpy arrays that makes some things (handling missing values, date indexing) easier. Heavily inspired by the [R](http://www.r-project.org/) statistical computing language.\n",
    "\n",
    "[scikit-learn](http://scikit-learn.org/stable/) is a machine learning library that contains implementations of many of the most popular machine learning algorithms.\n",
    "\n",
    "[theano](http://deeplearning.net/software/theano/) allows you to write programs that are compiled and run on a GPU.\n",
    "\n",
    "Finally, this is not a python package, but [stack overflow](http://stackoverflow.com/) is a really good question-and-answers site where you can probably find answers to the most common problems you'll have :-)"
   ]
  },
  {
   "cell_type": "markdown",
   "metadata": {},
   "source": [
    "For this course, we strongly suggest that you install and use [anaconda](https://store.continuum.io/cshop/anaconda/). It is a \"python distribution\" that comes with a package manager (conda) and all of the scientific packages listed above (and many others) pre-installed."
   ]
  },
  {
   "cell_type": "markdown",
   "metadata": {},
   "source": [
    "## 3. Quick numpy introduction"
   ]
  },
  {
   "cell_type": "markdown",
   "metadata": {},
   "source": [
    "Numpy allows you to define [multidimensionnal arrays](http://docs.scipy.org/doc/numpy/reference/arrays.ndarray.html) (recommended reading)."
   ]
  },
  {
   "cell_type": "code",
   "execution_count": 5,
   "metadata": {
    "collapsed": false
   },
   "outputs": [
    {
     "name": "stdout",
     "output_type": "stream",
     "text": [
      "(2, 3)\n"
     ]
    },
    {
     "data": {
      "text/plain": [
       "array([[1, 2, 3],\n",
       "       [4, 5, 6]])"
      ]
     },
     "execution_count": 5,
     "metadata": {},
     "output_type": "execute_result"
    }
   ],
   "source": [
    "# Makes the numpy function available as np.<funcname> (np is a convention)\n",
    "import numpy as np\n",
    "\n",
    "array1 = np.array([\n",
    "    [1, 2, 3],\n",
    "    [4, 5, 6]]\n",
    ")\n",
    "\n",
    "print(array1.shape)\n",
    "\n",
    "# The last line of a python cell is evaluated and used as the output for the cell\n",
    "array1"
   ]
  },
  {
   "cell_type": "markdown",
   "metadata": {},
   "source": [
    "The array elements can be accessed using the [indexing syntax](http://docs.scipy.org/doc/numpy/reference/arrays.indexing.html#arrays-indexing) (recommended reading). Numpy (and python) uses 0-based indexing."
   ]
  },
  {
   "cell_type": "code",
   "execution_count": 6,
   "metadata": {
    "collapsed": false
   },
   "outputs": [
    {
     "name": "stdout",
     "output_type": "stream",
     "text": [
      "element (2,3) :  6\n",
      "first row     :  [1 2 3]\n",
      "second column :  [2 5]\n",
      "second and third element of the second row :  [5 6]\n"
     ]
    }
   ],
   "source": [
    "print(\"element (2,3) : \", array1[1,2])\n",
    "print(\"first row     : \", array1[0,:])\n",
    "print(\"second column : \", array1[:,1])\n",
    "print(\"second and third element of the second row : \", array1[1, 1:])"
   ]
  },
  {
   "cell_type": "markdown",
   "metadata": {},
   "source": [
    "You can do a [lot of things](http://docs.scipy.org/doc/numpy/reference/) with numpy arrays. For example, we can compute the mean of each column :"
   ]
  },
  {
   "cell_type": "code",
   "execution_count": 7,
   "metadata": {
    "collapsed": false
   },
   "outputs": [
    {
     "data": {
      "text/plain": [
       "array([ 2.,  5.])"
      ]
     },
     "execution_count": 7,
     "metadata": {},
     "output_type": "execute_result"
    }
   ],
   "source": [
    "array1.mean(axis=1)"
   ]
  },
  {
   "cell_type": "markdown",
   "metadata": {},
   "source": [
    "We can also sort an array :"
   ]
  },
  {
   "cell_type": "code",
   "execution_count": 9,
   "metadata": {
    "collapsed": false
   },
   "outputs": [
    {
     "name": "stdout",
     "output_type": "stream",
     "text": [
      "original      :  [5 8 2 9 4 3]\n",
      "using argsort :  [2 3 4 5 8 9]\n",
      "after sort()  :  [2 3 4 5 8 9]\n"
     ]
    }
   ],
   "source": [
    "array2 = np.array([5, 8, 2, 9, 4, 3])\n",
    "print(\"original      : \", array2)\n",
    "\n",
    "print(\"using argsort : \", array2[np.argsort(array2)]) # the fancy indexing version\n",
    "\n",
    "array2.sort() # not that this does in-place sorting, so it *modifies* array2\n",
    "print(\"after sort()  : \", array2)"
   ]
  },
  {
   "cell_type": "markdown",
   "metadata": {},
   "source": [
    "We can also use comparison operators on arrays, giving us a boolean mask. And then use the mask to index the array :"
   ]
  },
  {
   "cell_type": "code",
   "execution_count": 10,
   "metadata": {
    "collapsed": false
   },
   "outputs": [
    {
     "name": "stdout",
     "output_type": "stream",
     "text": [
      "[[1 2 3]\n",
      " [4 5 6]]\n",
      "[[False False False]\n",
      " [False  True False]]\n",
      "[5]\n"
     ]
    }
   ],
   "source": [
    "mask = array1 == 5\n",
    "print(array1)\n",
    "print(mask)\n",
    "print(array1[mask])"
   ]
  },
  {
   "cell_type": "markdown",
   "metadata": {},
   "source": [
    "As exercices, do the following :\n",
    "\n",
    "- Compute the max of each row. Each column ?\n",
    "- Print the elements of array1 that are less than 4 (without a for loop)"
   ]
  },
  {
   "cell_type": "markdown",
   "metadata": {},
   "source": [
    "## 4. Classifying the Iris flower dataset\n",
    "\n",
    "We will use the <a href=\"https://en.wikipedia.org/wiki/Iris_flower_data_set\">Iris flower dataset</a> to introduce you to the basics of plotting and machine learning (classification). This dataset contains 150 entries of irises with their petal and sepal lengths/widths. Three different classes of irises are present in this dataset (Setosa, Versicolour, and Virginica). Your goal will be to build a classifier that can recognize the iris class, based on the petal length and petal width. \n",
    "\n",
    "Start by loading the data."
   ]
  },
  {
   "cell_type": "code",
   "execution_count": 25,
   "metadata": {
    "collapsed": false
   },
   "outputs": [],
   "source": [
    "from sklearn import datasets\n",
    "iris = datasets.load_iris()\n",
    "X = iris.data[:, 2:]  # we only take the last two features.\n",
    "Y = iris.target"
   ]
  },
  {
   "cell_type": "markdown",
   "metadata": {},
   "source": [
    "### Visualization\n",
    "\n",
    "Visualize the data using a scatter plot."
   ]
  },
  {
   "cell_type": "code",
   "execution_count": 26,
   "metadata": {
    "collapsed": false
   },
   "outputs": [
    {
     "name": "stdout",
     "output_type": "stream",
     "text": [
      "Populating the interactive namespace from numpy and matplotlib\n"
     ]
    },
    {
     "data": {
      "text/plain": [
       "<matplotlib.text.Text at 0x107c98c88>"
      ]
     },
     "execution_count": 26,
     "metadata": {},
     "output_type": "execute_result"
    },
    {
     "data": {
      "image/png": "[encoded data removed]",
      "text/plain": [
       "<matplotlib.figure.Figure at 0x107d02a58>"
      ]
     },
     "metadata": {},
     "output_type": "display_data"
    }
   ],
   "source": [
    "import pylab as pl # pylab is matplotlib\n",
    "# The line below enables matplotlib-ipython integration and allows plots to be displayed inline in the\n",
    "# notebook. The --no-import-all is to avoid polluting our namespace with a import *\n",
    "%pylab inline --no-import-all\n",
    "\n",
    "pl.scatter(X[:, 0], X[:, 1], c=Y)\n",
    "pl.xlabel('Petal length')\n",
    "pl.ylabel('Petal width')"
   ]
  },
  {
   "cell_type": "markdown",
   "metadata": {},
   "source": [
    "<p style=\"background-color:#AFEEEE;padding:3px\"><font size=\"4\"><b>4.1. </b></font> By looking at this scatter plot, do you feel that building a classifier of iris class based on petal length and petal width will be an easy task? (Justify briefly)</p>"
   ]
  },
  {
   "cell_type": "markdown",
   "metadata": {},
   "source": [
    "Votre réponse..."
   ]
  },
  {
   "cell_type": "markdown",
   "metadata": {},
   "source": [
    "### Classification"
   ]
  },
  {
   "cell_type": "markdown",
   "metadata": {},
   "source": [
    "To build and evaluate a machine learning model, we need to split our data into training and testing sets. Scikit learn has a [cross_validation](http://scikit-learn.org/stable/modules/cross_validation.html#cross-validation) module that helps with this task."
   ]
  },
  {
   "cell_type": "code",
   "execution_count": 33,
   "metadata": {
    "collapsed": false
   },
   "outputs": [
    {
     "name": "stdout",
     "output_type": "stream",
     "text": [
      "train shape :  (90,)\n",
      "test shape  :  (60,)\n"
     ]
    }
   ],
   "source": [
    "from sklearn import cross_validation\n",
    "# train and test are indices arrays containing the indices of train/test samples\n",
    "X_train, X_test, y_train, y_test = cross_validation.train_test_split(\n",
    "    X, Y, test_size=0.4, random_state=0 # we fix random state for reproducibility)\n",
    ")\n",
    "\n",
    "print(\"train shape : \", train.shape)\n",
    "print(\"test shape  : \", test.shape)"
   ]
  },
  {
   "cell_type": "markdown",
   "metadata": {},
   "source": [
    "We'll use the [k Nearest Neighbor](http://en.wikipedia.org/wiki/K-nearest_neighbors_algorithm) to classify the iris flower dataset. This classifier will classify a new sample by assigning it the class of its k-nearest neighbors.\n",
    "\n",
    "The algorithm therefore consists of the following three steps:\n",
    "- compute the distance between a sample in the test set and all the samples in the training set\n",
    "- find the k-nearest neighbors in the training set\n",
    "- assign a class to the sample in the test set by taking the majority class among the k-nearest neighbors."
   ]
  },
  {
   "cell_type": "code",
   "execution_count": 35,
   "metadata": {
    "collapsed": false
   },
   "outputs": [],
   "source": [
    "from sklearn import neighbors\n",
    "\n",
    "n_neighbors = 5 # k=5, i.e. 5-nearest neighbors\n",
    "\n",
    "clf = neighbors.KNeighborsClassifier(n_neighbors) \n",
    "clf.fit(X_train, y_train)\n",
    "\n",
    "# predict class of entries in the test set\n",
    "pred_kNN = clf.predict(X_test)"
   ]
  },
  {
   "cell_type": "markdown",
   "metadata": {},
   "source": [
    "In order to visualize the performance of the classifier, represent the confusion matrix:"
   ]
  },
  {
   "cell_type": "code",
   "execution_count": 39,
   "metadata": {
    "collapsed": false
   },
   "outputs": [
    {
     "data": {
      "image/png": "[encoded data removed]",
      "text/plain": [
       "<matplotlib.figure.Figure at 0x108321898>"
      ]
     },
     "metadata": {},
     "output_type": "display_data"
    }
   ],
   "source": [
    "from sklearn.metrics import confusion_matrix\n",
    "\n",
    "def plot_confusion_matrix_iris(cm, title='Confusion matrix', cmap=plt.cm.Blues):\n",
    "    plt.imshow(cm, interpolation='nearest', cmap=cmap)\n",
    "    plt.title(title)\n",
    "    plt.colorbar()\n",
    "    tick_marks = np.arange(len(iris.target_names))\n",
    "    plt.xticks(tick_marks, iris.target_names, rotation=45)\n",
    "    plt.yticks(tick_marks, iris.target_names)\n",
    "    plt.tight_layout()\n",
    "    plt.ylabel('True label')\n",
    "    plt.xlabel('Predicted label')\n",
    "cm = confusion_matrix(y_test,pred_kNN)\n",
    "plot_confusion_matrix_iris(cm)"
   ]
  },
  {
   "cell_type": "markdown",
   "metadata": {},
   "source": [
    "<p style=\"background-color:#AFEEEE;padding:3px\"><font size=\"4\"><b>4.2. </b></font> Explain (briefly) what this confusion matrix shows.</p>"
   ]
  },
  {
   "cell_type": "markdown",
   "metadata": {},
   "source": [
    "Votre réponse..."
   ]
  },
  {
   "cell_type": "markdown",
   "metadata": {},
   "source": [
    "In order to have a quantitative measure of performance, several <a href=\"https://en.wikipedia.org/wiki/Precision_and_recall\">metrics</a> can be used. In the following, we use accuracy, i.e. the proportion of true results (both true positives and true negatives) among the total number of cases examined. Note that in general, you should use several metrics, depending on the problem."
   ]
  },
  {
   "cell_type": "code",
   "execution_count": 46,
   "metadata": {
    "collapsed": false
   },
   "outputs": [
    {
     "name": "stdout",
     "output_type": "stream",
     "text": [
      "Accuracy = 95.0%\n"
     ]
    }
   ],
   "source": [
    "from sklearn.metrics import accuracy_score\n",
    "acc = accuracy_score(y_test, pred_kNN)\n",
    "print('Accuracy = '+str(100*acc)+'%')"
   ]
  },
  {
   "cell_type": "markdown",
   "metadata": {},
   "source": [
    "<p style=\"background-color:#AFEEEE;padding:3px\"><font size=\"4\"><b>4.3. </b></font> In our example, we only used two features (petal length and petal width). Try classifying with all four features and compare the performance. Try also varying the number of neighbors, k.</p>"
   ]
  },
  {
   "cell_type": "markdown",
   "metadata": {},
   "source": [
    "Votre réponse... Décrivez brièvement les résultats que vous obtenez et vos conclusions."
   ]
  },
  {
   "cell_type": "markdown",
   "metadata": {},
   "source": [
    "### ALLER PLUS LOIN...\n",
    "\n",
    "Si le machine learning vous parle et que vous souhaitez voir un cas d'application plus réel plutôt qu'un \"toy dataset\", vous pouvez consulter également le <a href=\"http://193.134.218.37/labs/lab1/lab1.zip\">notebook suivant</a> et aller directement à la section \"WINE\"."
   ]
  },
  {
   "cell_type": "markdown",
   "metadata": {},
   "source": [
    "## 5. Cool links"
   ]
  },
  {
   "cell_type": "markdown",
   "metadata": {},
   "source": [
    "### Scikit-learn cheatsheet"
   ]
  },
  {
   "cell_type": "markdown",
   "metadata": {},
   "source": [
    "There is a [cheatsheet](http://scikit-learn.org/stable/tutorial/machine_learning_map/) available on scikit-learn's website that help you choose an algorithm when you're lost. It is of course simplified and doesn't include all algorithms and criterions, but it is a good starting point."
   ]
  },
  {
   "cell_type": "markdown",
   "metadata": {},
   "source": [
    "### Interesting ipython notebooks"
   ]
  },
  {
   "cell_type": "markdown",
   "metadata": {},
   "source": [
    "[nbviewer.ipython.org](http://nbviewer.ipython.org/) has a nice collection of ipython notebooks that showcase various libraries (and even different languages) that you can use with ipython."
   ]
  }
 ],
 "metadata": {
  "kernelspec": {
   "display_name": "Python 2",
   "language": "python",
   "name": "python2"
  },
  "language_info": {
   "codemirror_mode": {
    "name": "ipython",
    "version": 2
   },
   "file_extension": ".py",
   "mimetype": "text/x-python",
   "name": "python",
   "nbconvert_exporter": "python",
   "pygments_lexer": "ipython2",
   "version": "2.7.9"
  }
 },
 "nbformat": 4,
 "nbformat_minor": 0
}
