{
 "cells": [
  {
   "cell_type": "markdown",
   "metadata": {},
   "source": [
    "# Linguistic variables\n",
    "The goal of this notebook is to guide you through the exploration of the concept of linguistic variables in the context of fuzzy inference systems.\n",
    "We will start by giving you an implementation of membership function which is general enough to define linguistic values of arbitrary shape. This implementation is slow, if you want to represent very complex and detailed membership functions; but can also be efficient if you use simpler membership functions (trapezoids).\n",
    "Moreover, we will give you one implementation of linguistic variable which has linguistic values without any constraint and therefore, limitating one of the advantages of fuzzy which is the interpretability. We then ask you to create a second implementation adding some constraints to the shape of its linguistic values. We ask you to implemented membership functions as trapezoids, with shared adjacent transition points."
   ]
  },
  {
   "cell_type": "code",
   "execution_count": null,
   "metadata": {
    "collapsed": false
   },
   "outputs": [],
   "source": [
    "import numpy as np\n",
    "import matplotlib.pyplot as pl\n",
    "\n",
    "%matplotlib inline"
   ]
  },
  {
   "cell_type": "markdown",
   "metadata": {},
   "source": [
    "----------------------------"
   ]
  },
  {
   "cell_type": "markdown",
   "metadata": {},
   "source": [
    "## Define a free-shaped membership function\n",
    "This implementation allows the creation of membership functions of arbitrary shapes. Thus, a membership function is defined by specifying some points over it, and interpolation is used to evaluate its whole domain. Using this approach you can create membership functions from highly complex ones where the whole domain is defined explicitly (e.g., hand-crafted membership functions, functions like Gaussians or Sigmoids) to very simple ones like triangles of trapezoids."
   ]
  },
  {
   "cell_type": "code",
   "execution_count": null,
   "metadata": {
    "collapsed": false
   },
   "outputs": [],
   "source": [
    "class FreeShapeMF:\n",
    "    \"\"\"\n",
    "    This class implements a membership function with free shape.\n",
    "    The shape of the function is defined by giving a vector of input values\n",
    "    and a the vector of corresponding membership values.\n",
    "    Calling this class with a float number as parameter returns the\n",
    "    degree of activation of the membership function for that value computed\n",
    "    using interpolations between the two nearest known values.\n",
    "    \"\"\"\n",
    "    def __init__(self, input_values, membership_values):\n",
    "        \"\"\"\n",
    "        Two parameters needed:\n",
    "        input_values: vector of input values\n",
    "        membership_values: vector of membership values\n",
    "        \"\"\"\n",
    "        assert len(input_values) == len(membership_values)\n",
    "        for i in np.arange(1, len(input_values)):\n",
    "            assert input_values[i-1] <= input_values[i]\n",
    "        self.input_values = input_values\n",
    "        self.membership_values = membership_values\n",
    "        \n",
    "    def __call__(self, value):\n",
    "        if value <= self.input_values[0]:\n",
    "            return self.membership_values[0]\n",
    "        elif value >= self.input_values[-1]:\n",
    "            return self.membership_values[-1]\n",
    "        else:\n",
    "            i = 1\n",
    "            while value > self.input_values[i]:\n",
    "                i = i + 1\n",
    "            i_p = (value - self.input_values[i-1]) / float(self.input_values[i] - self.input_values[i-1])\n",
    "            return i_p * (self.membership_values[i] - self.membership_values[i-1]) + self.membership_values[i-1]\n",
    "    \n",
    "    def apply_to(self, input_values):\n",
    "        return map(self, input_values)\n",
    "    \n",
    "    def plot(self, input_values, col=None, name=None):\n",
    "        output_values = self.apply_to(input_values)\n",
    "        if col:\n",
    "            pl.plot(input_values, output_values, c=col, label=name)\n",
    "        else:\n",
    "            pl.plot(input_values, output_values, label=name)\n",
    "        pl.ylim(0, 1.05)\n",
    "        pl.grid(True)"
   ]
  },
  {
   "cell_type": "markdown",
   "metadata": {},
   "source": [
    "### Example of hand-crafted membership function"
   ]
  },
  {
   "cell_type": "code",
   "execution_count": null,
   "metadata": {
    "collapsed": false
   },
   "outputs": [],
   "source": [
    "hand_crafted = FreeShapeMF([1.0, 3.0, 5.0, 6.0, 7.0, 10.0, 14.0, 18.0], [0.0, 0.1, 0.0, 0.0, 1.0, 0.6, 0.6, 0.0])\n",
    "hand_crafted.plot(np.arange(0, 30, 0.1))"
   ]
  },
  {
   "cell_type": "markdown",
   "metadata": {},
   "source": [
    "### Example of a trapezoidal membership function"
   ]
  },
  {
   "cell_type": "code",
   "execution_count": null,
   "metadata": {
    "collapsed": false
   },
   "outputs": [],
   "source": [
    "trapezoidal = FreeShapeMF([5.0, 10.0, 15.0, 20.0], [0.0, 1.0, 1.0, 0.0])\n",
    "trapezoidal.plot(np.arange(0, 30, 0.1))"
   ]
  },
  {
   "cell_type": "markdown",
   "metadata": {},
   "source": [
    "----------------"
   ]
  },
  {
   "cell_type": "markdown",
   "metadata": {},
   "source": [
    "## Defining some methods that are common to the implementations of linguistic variable\n",
    "We define a base class with some methods that can be reused by derived classes.\n",
    "In its implementation the membership functions are stored in a dictionary. This make possible to access them by name."
   ]
  },
  {
   "cell_type": "code",
   "execution_count": null,
   "metadata": {
    "collapsed": true
   },
   "outputs": [],
   "source": [
    "class BaseLinguisticVariable:\n",
    "    def __str__(self):\n",
    "        to_return = self.name + '\\n'\n",
    "        for name, mf in self.membership_functions.iteritems():\n",
    "            to_return += name + ': ' + str(zip(mf.input_values, mf.membership_values))  + '\\n'\n",
    "        return to_return\n",
    "    \n",
    "    def get_linguistic_value(self, name):\n",
    "        assert name in self.level_names\n",
    "        return self.membership_functions[name].apply_to(self.input_values)\n",
    "    \n",
    "    def plot_linguistic_value(self, name):\n",
    "        assert name in self.level_names\n",
    "        mf = self.membership_functions[name]\n",
    "        mf.plot(self.input_values, name=name)\n",
    "        if self.input_value:\n",
    "            activation = mf(self.input_value)\n",
    "            pl.plot([0, self.input_value, self.input_value, self.input_value], [activation, activation, 0, activation], 'k--')\n",
    "        pl.ylim(0, 1.05)\n",
    "        pl.legend(loc=7)\n",
    "        pl.grid(True)\n",
    "        pl.title(self.name)\n",
    "        \n",
    "    def plot(self):\n",
    "        for name, mf in self.membership_functions.iteritems():\n",
    "            mf.plot(self.input_values, name=name)\n",
    "            if self.input_value:\n",
    "                activation = mf(self.input_value)\n",
    "                pl.plot([self.v_min, self.input_value, self.input_value, self.input_value], [activation, activation, 0, activation], 'k--')\n",
    "        pl.ylim(0, 1.05)\n",
    "        pl.legend(loc=7)\n",
    "        pl.grid(True)\n",
    "        pl.title(self.name)\n",
    "    \n",
    "    def fuzzify(self, value):\n",
    "        self.input_value = value\n",
    "        self.membership_values = dict()\n",
    "        for name, mf in self.membership_functions.iteritems():\n",
    "            self.membership_values[name] = mf(self.input_value)\n",
    "        return self.membership_values"
   ]
  },
  {
   "cell_type": "markdown",
   "metadata": {},
   "source": [
    "--------------------------------"
   ]
  },
  {
   "cell_type": "markdown",
   "metadata": {},
   "source": [
    "## A linguistic variable without constraints in its linguistic values\n",
    "Let's first explore an implementation of linguistic variable which can be initialized with linguisitic values of any shape. This implementation receives (among other parameters) a list of membership functions of type FreeShapeMF in order to initialize its linguistic values."
   ]
  },
  {
   "cell_type": "code",
   "execution_count": null,
   "metadata": {
    "collapsed": true
   },
   "outputs": [],
   "source": [
    "class NonConstrainedLinguisticVariable(BaseLinguisticVariable):\n",
    "    \"\"\"\n",
    "    This class implements a linguistic variable.\n",
    "    Linguistic values are defined at initialization by specifying their membership functions.\n",
    "    \"\"\"\n",
    "    def __init__(self, name, v_min, v_max, membership_functions, level_names=None, res=0.1):\n",
    "        \"\"\"\n",
    "        Six parameters needed:\n",
    "        name: name of the variable\n",
    "        v_min: minimum value of the variable\n",
    "        v_max: maximum value of the variable\n",
    "        membership_functions: list of membership_functions defining the linguistic values\n",
    "        level_names: optional, name, or list of names of the linguistic values\n",
    "        res: resolution\n",
    "        \"\"\"\n",
    "        self.name = name\n",
    "        assert v_max > v_min\n",
    "        assert v_min <= min([min(m_f.input_values) for m_f in membership_functions])\n",
    "        assert v_max >= max([max(m_f.input_values) for m_f in membership_functions])\n",
    "        self.v_min = v_min\n",
    "        self.v_max = v_max\n",
    "        self.resolution = res\n",
    "        self.input_values = np.arange(self.v_min, self.v_max, self.resolution)\n",
    "        self.__set_membership_functions(membership_functions, level_names)\n",
    "        self.input_value = None\n",
    "        self.membership_values = dict()\n",
    "    \n",
    "    def __set_membership_functions(self, membership_functions, level_names):\n",
    "        if level_names is None:\n",
    "            level_names = 'V_level_'\n",
    "        if isinstance(level_names, str):\n",
    "            level_names = [level_names]\n",
    "        if (len(level_names) == 1):\n",
    "            if not level_names[0].endswith('_level_'):\n",
    "                level_names[0] += '_level_'\n",
    "            level_names = [level_names[0] + str(i) for i in np.arange(len(self.membership_functions))]\n",
    "        assert len(level_names) == len(membership_functions)\n",
    "        self.level_names = level_names\n",
    "        self.membership_functions = {level_names[i]:membership_functions[i] for i in np.arange(len(membership_functions))}"
   ]
  },
  {
   "cell_type": "markdown",
   "metadata": {},
   "source": [
    "### An example of the NonConstrainedLinguisticVariable"
   ]
  },
  {
   "cell_type": "markdown",
   "metadata": {},
   "source": [
    "Define the free-shaped membership functions"
   ]
  },
  {
   "cell_type": "code",
   "execution_count": null,
   "metadata": {
    "collapsed": false
   },
   "outputs": [],
   "source": [
    "# Let's first define some basic functions\n",
    "def gaussian(x, mu, sig):\n",
    "    return np.exp(-np.power(x - mu, 2.) / (2 * np.power(sig, 2.)))\n",
    "def sigmoid(x, mu, sig):\n",
    "    return 1 / (1 + np.exp(sig * (mu - x)))\n",
    "\n",
    "# These are common constants\n",
    "min_value = 0.0\n",
    "max_value = 120.0\n",
    "resolution = 1.0\n",
    "input_values = np.arange(min_value, max_value, resolution)\n",
    "\n",
    "# Definition of three linguistic values\n",
    "slow = FreeShapeMF([20.0, 40.0], [1.0, 0.0])                        # Trapezoid\n",
    "normal = FreeShapeMF(input_values, gaussian(input_values, 60.0, 10))# Gaussian\n",
    "fast = FreeShapeMF(input_values, sigmoid(input_values, 80.0, 0.1))  # Sigmoid\n",
    "\n",
    "# Plot them\n",
    "pl.figure(figsize=(12,4))\n",
    "pl.subplot(1,3,1)\n",
    "slow.plot(input_values)\n",
    "pl.subplot(1,3,2)\n",
    "normal.plot(input_values)\n",
    "pl.subplot(1,3,3)\n",
    "fast.plot(input_values)"
   ]
  },
  {
   "cell_type": "markdown",
   "metadata": {},
   "source": [
    "Define the linguistic variable using the linguistic values and constants created before"
   ]
  },
  {
   "cell_type": "code",
   "execution_count": null,
   "metadata": {
    "collapsed": false
   },
   "outputs": [],
   "source": [
    "speed = NonConstrainedLinguisticVariable('Speed', min_value, max_value, [slow, normal, fast], ['slow', 'normal','fast'])"
   ]
  },
  {
   "cell_type": "markdown",
   "metadata": {},
   "source": [
    "Notice that printing the linguistic variable gives us each one of the points that are defined in the functions  \n",
    "These values can be more or less difficult to read deppending on the shape of the linguistic value  \n",
    "- Observe the difference between slow and fast"
   ]
  },
  {
   "cell_type": "code",
   "execution_count": null,
   "metadata": {
    "collapsed": false
   },
   "outputs": [],
   "source": [
    "print speed"
   ]
  },
  {
   "cell_type": "markdown",
   "metadata": {},
   "source": [
    "The method \"fuzzify\" finds the degree of membership to each linguistic value for a given input value"
   ]
  },
  {
   "cell_type": "code",
   "execution_count": null,
   "metadata": {
    "collapsed": false
   },
   "outputs": [],
   "source": [
    "speed.fuzzify(70)"
   ]
  },
  {
   "cell_type": "code",
   "execution_count": null,
   "metadata": {
    "collapsed": false
   },
   "outputs": [],
   "source": [
    "speed.plot()"
   ]
  },
  {
   "cell_type": "code",
   "execution_count": null,
   "metadata": {
    "collapsed": false
   },
   "outputs": [],
   "source": [
    "speed.plot_linguistic_value('fast')"
   ]
  },
  {
   "cell_type": "markdown",
   "metadata": {},
   "source": [
    "----------------------------"
   ]
  },
  {
   "cell_type": "markdown",
   "metadata": {},
   "source": [
    "## Exercise"
   ]
  },
  {
   "cell_type": "markdown",
   "metadata": {},
   "source": [
    "### 1. Create your own implementation of linguistic variable\n",
    "\n",
    "Complete the following cell to create a new implementation of linguistic variable with some contraints:\n",
    "- Linguisitic values are constrained to have trapezoidal shapes\n",
    "- Trapezoids are defined by their transition points, which are shared between adjacent linguistic values\n",
    "- This implementation should receive (among other parameters) a list of transition points from which membership functions of type FreeShapeMF must be defined"
   ]
  },
  {
   "cell_type": "code",
   "execution_count": null,
   "metadata": {
    "collapsed": true
   },
   "outputs": [],
   "source": [
    "class LinguisticVariable(BaseLinguisticVariable):\n",
    "    \"\"\"\n",
    "    This class implements a linguistic variable with some constraints\n",
    "    in the definition in its membership functions.\n",
    "    Linguistic values are shaped as trapezoidal membership functions,\n",
    "    each membership function is defined by a a series of 2 or 4 points:\n",
    "    \n",
    "    1 _____p[0].  _ _ _ _ _ _      1 _ _ _  p[1].________.p[2] _ _ _ _ \n",
    "                \\\\                              /          \\\\\n",
    "                 \\\\                            /            \\\\\n",
    "                  \\\\                          /              \\\\\n",
    "                   \\\\                        /                \\\\\n",
    "    0 _ _ _ _ _ _ _ \\\\._______      0 _____./_ _ _ _ _ _ _ _ _ \\\\.______\n",
    "                      p[1]                  p[0]                   p[3]\n",
    "    \n",
    "    Therefore, linguistic values are defined at initialization by specifying\n",
    "    their transition points:\n",
    "    \n",
    "    1 _______   t[1]_______   t[3]__   t[5]______ . . .\n",
    "             \\\\   /         \\\\   /    \\\\   / \n",
    "              \\\\ /           \\\\ /      \\\\ /\n",
    "               X             X        X\n",
    "              / \\\\           / \\\\      / \\\\\n",
    "    0 _______/   \\\\_________/   \\\\____/   \\\\________ . . .\n",
    "           t[0]          t[2]     t[4]\n",
    "    \n",
    "    \"\"\"\n",
    "    def __init__(self, name, v_min, v_max, transitions, level_names=None, res=0.1):\n",
    "        \"\"\"\n",
    "        Four parameters needed:\n",
    "        name: name of the variable\n",
    "        v_min: minimum input value\n",
    "        v_max: maximum input value\n",
    "        transitions: list of values defining the starting and ending points of the linguistic values\n",
    "        level_names: optional, name, or list of names of the linguistic values\n",
    "        res: resolution\n",
    "        \"\"\"\n",
    "        self.name = name\n",
    "        assert v_min < v_max\n",
    "        self.v_min = v_min\n",
    "        self.v_max = v_max\n",
    "        self.resolution = res\n",
    "        self.input_values = np.arange(self.v_min, self.v_max, self.resolution)\n",
    "        self.__set_transitions(transitions)\n",
    "        self.__set_level_names(level_names)\n",
    "        self.membership_functions = dict()\n",
    "        \n",
    "        ## -------------------------------------------------------------------------\n",
    "        ## Complete here with the creation of the dictionary of membership functions\n",
    "        ## -------------------------------------------------------------------------\n",
    "        \n",
    "        self.input_value = None\n",
    "        self.membership_values = dict()\n",
    "\n",
    "    def __set_transitions(self, transitions):\n",
    "        n_transitions = len(transitions)\n",
    "        assert n_transitions >= 2\n",
    "        assert n_transitions % 2 == 0\n",
    "        assert self.v_min <= transitions[0]\n",
    "        assert transitions[-1] <= self.v_max\n",
    "        for i in np.arange(1, n_transitions):\n",
    "            assert transitions[i-1] <= transitions[i]\n",
    "        self.transitions= transitions\n",
    "    \n",
    "    def __set_level_names(self, level_names):\n",
    "        if level_names is None:\n",
    "            level_names = 'V_level_'\n",
    "        if isinstance(level_names, str):\n",
    "            level_names = [level_names]\n",
    "        if (len(level_names) == 1):\n",
    "            if not level_names[0].endswith('_level_'):\n",
    "                level_names[0] += '_level_'\n",
    "            level_names = [level_names[0] + str(i) for i in np.arange((len(self.transitions) / 2) + 1)]\n",
    "        assert len(level_names) == (len(self.transitions) / 2) + 1\n",
    "        self.level_names = level_names"
   ]
  },
  {
   "cell_type": "markdown",
   "metadata": {},
   "source": [
    "Use this code to test your implementation:"
   ]
  },
  {
   "cell_type": "code",
   "execution_count": null,
   "metadata": {
    "collapsed": false
   },
   "outputs": [],
   "source": [
    "speed = LinguisticVariable('Speed', 0, 120, [20,40,60,80], ['slow', 'normal','fast'], res=1.0)"
   ]
  },
  {
   "cell_type": "markdown",
   "metadata": {},
   "source": [
    "This linguistic variable is created with 4 transition points: 5, 10, 15, 20. The first two transition points are shared between the linguistic values low and medium. The two last transition points are shared between the linguistic values medium and high."
   ]
  },
  {
   "cell_type": "markdown",
   "metadata": {},
   "source": [
    "When using:"
   ]
  },
  {
   "cell_type": "code",
   "execution_count": null,
   "metadata": {
    "collapsed": false
   },
   "outputs": [],
   "source": [
    "print speed"
   ]
  },
  {
   "cell_type": "markdown",
   "metadata": {},
   "source": [
    "You should obtain:  \n",
    "Speed  \n",
    "slow: [(20, 1.0), (40, 0.0)]  \n",
    "fast: [(60, 0.0), (80, 1.0)]  \n",
    "normal: [(20, 0.0), (40, 1.0), (60, 1.0), (80, 0.0)]  \n",
    "\n",
    "Notice that, in this case, the results of printing the linguistic variable are much more easy to read and interpret  \n",
    "\n",
    "When using:"
   ]
  },
  {
   "cell_type": "code",
   "execution_count": null,
   "metadata": {
    "collapsed": false
   },
   "outputs": [],
   "source": [
    "speed.fuzzify(70)"
   ]
  },
  {
   "cell_type": "markdown",
   "metadata": {},
   "source": [
    "You should obtain:  \n",
    "{'fast': 0.5, 'normal': 0.5, 'slow': 0.0}  \n",
    "\n",
    "When using:"
   ]
  },
  {
   "cell_type": "code",
   "execution_count": null,
   "metadata": {
    "collapsed": false
   },
   "outputs": [],
   "source": [
    "speed.plot()"
   ]
  },
  {
   "cell_type": "markdown",
   "metadata": {},
   "source": [
    "You should obtain:  \n",
    "<img src=\"interpretableLinguisticVariable.png\">"
   ]
  },
  {
   "cell_type": "markdown",
   "metadata": {},
   "source": [
    "### 2. The tourist prediction problem\n",
    "\n",
    "Create linguistic variables for the three variables in the \"tourists prediction problem\":\n",
    "![tourists](tourists.png)\n"
   ]
  }
 ],
 "metadata": {
  "kernelspec": {
   "display_name": "Python 2",
   "language": "python",
   "name": "python2"
  },
  "language_info": {
   "codemirror_mode": {
    "name": "ipython",
    "version": 2
   },
   "file_extension": ".py",
   "mimetype": "text/x-python",
   "name": "python",
   "nbconvert_exporter": "python",
   "pygments_lexer": "ipython2",
   "version": "2.7.9"
  }
 },
 "nbformat": 4,
 "nbformat_minor": 0
}
