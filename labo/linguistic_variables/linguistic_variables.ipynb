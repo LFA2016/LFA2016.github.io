{
 "cells": [
  {
   "cell_type": "markdown",
   "metadata": {},
   "source": [
    "# Linguistic variables\n",
    "The goal of this notebook is to guide you through the exploration of the concept of linguistic variables in the context of fuzzy inference systems.\n",
    "We will start by giving you an implementation of membership function which is general enough to define linguistic values of arbitrary shape. This implementation is slow, if you want to represent very complex and detailed membership functions; but can also be efficient if you use simpler membership functions (trapezoids).\n",
    "Moreover, we will give you two implementations of linguistic variable. The former using a linguistic values without any constraint and therefore, limitating one of the advantages of fuzzy which is the interpretability. The second implementation adds some constraints to the shape of its linguistic values. They are implemented as trapezoids, with shared adjacent transition points."
   ]
  },
  {
   "cell_type": "code",
   "execution_count": 5,
   "metadata": {
    "collapsed": false
   },
   "outputs": [],
   "source": [
    "import numpy as np\n",
    "import matplotlib.pyplot as pl\n",
    "\n",
    "%matplotlib inline"
   ]
  },
  {
   "cell_type": "markdown",
   "metadata": {},
   "source": [
    "----------------------------"
   ]
  },
  {
   "cell_type": "markdown",
   "metadata": {},
   "source": [
    "## Define a free-shaped membership function\n",
    "This implementation allows the creation of membership functions of arbitrary shapes. Thus, a membership function is defined by specifying some points over it, and interpolation is used to evaluate its whole domain. Using this approach you can create membership functions from highly complex ones where the whole domain is defined explicitly (e.g., hand-crafted membership functions, functions like Gaussians or Sigmoids) to very simple ones like triangles of trapezoids."
   ]
  },
  {
   "cell_type": "code",
   "execution_count": 55,
   "metadata": {
    "collapsed": false
   },
   "outputs": [],
   "source": [
    "class FreeShapeMF:\n",
    "    \"\"\"\n",
    "    This class implements a membership function with free shape.\n",
    "    The shape of the function is defined by giving a vector of input values\n",
    "    and a the vector of corresponding membership values.\n",
    "    Calling this class with a float number as parameter returns the\n",
    "    degree of activation of the membership function for that value computed\n",
    "    using interpolations between the two nearest known values.\n",
    "    \"\"\"\n",
    "    def __init__(self, input_values, membership_values):\n",
    "        \"\"\"\n",
    "        Two parameters needed:\n",
    "        input_values: vector of input values\n",
    "        membership_values: vector of membership values\n",
    "        \"\"\"\n",
    "        assert len(input_values) == len(membership_values)\n",
    "        for i in np.arange(1, len(input_values)):\n",
    "            assert input_values[i-1] <= input_values[i]\n",
    "        self.input_values = input_values\n",
    "        self.membership_values = membership_values\n",
    "        \n",
    "    def __call__(self, value):\n",
    "        if value <= self.input_values[0]:\n",
    "            return self.membership_values[0]\n",
    "        elif value >= self.input_values[-1]:\n",
    "            return self.membership_values[-1]\n",
    "        else:\n",
    "            i = 1\n",
    "            while value > self.input_values[i]:\n",
    "                i = i + 1\n",
    "            i_p = (value - self.input_values[i-1]) / float(self.input_values[i] - self.input_values[i-1])\n",
    "            return i_p * (self.membership_values[i] - self.membership_values[i-1]) + self.membership_values[i-1]\n",
    "    \n",
    "    def apply_to(self, input_values):\n",
    "        return map(self, input_values)\n",
    "    \n",
    "    def plot(self, input_values, col=None, name=None):\n",
    "        output_values = self.apply_to(input_values)\n",
    "        if col:\n",
    "            pl.plot(input_values, output_values, c=col, label=name)\n",
    "        else:\n",
    "            pl.plot(input_values, output_values, label=name)\n",
    "        pl.ylim(0, 1.05)\n",
    "        pl.grid(True)"
   ]
  },
  {
   "cell_type": "markdown",
   "metadata": {},
   "source": [
    "### Example of hand-crafted membership function"
   ]
  },
  {
   "cell_type": "code",
   "execution_count": 56,
   "metadata": {
    "collapsed": false
   },
   "outputs": [
    {
     "data": {
      "image/png": "[encoded data removed]",
      "text/plain": [
       "<matplotlib.figure.Figure at 0x7fc281a9c890>"
      ]
     },
     "metadata": {},
     "output_type": "display_data"
    }
   ],
   "source": [
    "hand_crafted = FreeShapeMF([1.0, 3.0, 5.0, 6.0, 7.0, 10.0, 14.0, 18.0], [0.0, 0.1, 0.0, 0.0, 1.0, 0.6, 0.6, 0.0])\n",
    "hand_crafted.plot(np.arange(0, 30, 0.1))"
   ]
  },
  {
   "cell_type": "markdown",
   "metadata": {},
   "source": [
    "### Example of a trapezoidal membership function"
   ]
  },
  {
   "cell_type": "code",
   "execution_count": 57,
   "metadata": {
    "collapsed": false
   },
   "outputs": [
    {
     "data": {
      "image/png": "[encoded data removed]",
      "text/plain": [
       "<matplotlib.figure.Figure at 0x7fc281cd6350>"
      ]
     },
     "metadata": {},
     "output_type": "display_data"
    }
   ],
   "source": [
    "trapezoidal = FreeShapeMF([5.0, 10.0, 15.0, 20.0], [0.0, 1.0, 1.0, 0.0])\n",
    "trapezoidal.plot(np.arange(0, 30, 0.1))"
   ]
  },
  {
   "cell_type": "markdown",
   "metadata": {},
   "source": [
    "----------------"
   ]
  },
  {
   "cell_type": "markdown",
   "metadata": {},
   "source": [
    "## Defining some methods that are common to both implementations of linguistic variable\n",
    "We define a base class with some methods that can be reused by derived classes.\n",
    "In its implementation the membership functions are stored in a dictionary. This make possible to access them by name."
   ]
  },
  {
   "cell_type": "code",
   "execution_count": 67,
   "metadata": {
    "collapsed": true
   },
   "outputs": [],
   "source": [
    "class LinguisticVariable:\n",
    "    def __str__(self):\n",
    "        to_return = self.name + '\\n'\n",
    "        for name, mf in self.membership_functions.iteritems():\n",
    "            to_return += name + ': ' + str(zip(mf.input_values, mf.membership_values))  + '\\n'\n",
    "        return to_return\n",
    "    \n",
    "    def get_linguistic_value(self, name):\n",
    "        assert name in self.level_names\n",
    "        return self.membership_functions[name].apply_to(self.input_values)\n",
    "    \n",
    "    def plot_linguistic_value(self, name):\n",
    "        assert name in self.level_names\n",
    "        mf = self.membership_functions[name]\n",
    "        mf.plot(self.input_values, name=name)\n",
    "        if self.input_value:\n",
    "            activation = mf(self.input_value)\n",
    "            pl.plot([0, self.input_value, self.input_value, self.input_value], [activation, activation, 0, activation], 'k--')\n",
    "        pl.ylim(0, 1.05)\n",
    "        pl.legend(loc=7)\n",
    "        pl.grid(True)\n",
    "        pl.title(self.name)\n",
    "        \n",
    "    def plot(self):\n",
    "        for name, mf in self.membership_functions.iteritems():\n",
    "            mf.plot(self.input_values, name=name)\n",
    "            if self.input_value:\n",
    "                activation = mf(self.input_value)\n",
    "                pl.plot([0, self.input_value, self.input_value, self.input_value], [activation, activation, 0, activation], 'k--')\n",
    "        pl.ylim(0, 1.05)\n",
    "        pl.legend(loc=7)\n",
    "        pl.grid(True)\n",
    "        pl.title(self.name)\n",
    "    \n",
    "    def fuzzify(self, value):\n",
    "        self.input_value = value\n",
    "        self.membership_values = dict()\n",
    "        for name, mf in self.membership_functions.iteritems():\n",
    "            self.membership_values[name] = mf(self.input_value)\n",
    "        return self.membership_values"
   ]
  },
  {
   "cell_type": "markdown",
   "metadata": {},
   "source": [
    "--------------------------------"
   ]
  },
  {
   "cell_type": "markdown",
   "metadata": {},
   "source": [
    "## A linguistic variable without constraints in its linguistic values\n",
    "Let's first explore an implementation of linguistic variable which can be initialized with linguisitic values of any shape. This implementation receives (among other parameters) a list of membership functions of type FreeShapeMF in order to initialize its linguistic values."
   ]
  },
  {
   "cell_type": "code",
   "execution_count": 68,
   "metadata": {
    "collapsed": true
   },
   "outputs": [],
   "source": [
    "class NonConstrainedLinguisticVariable(LinguisticVariable):\n",
    "    \"\"\"\n",
    "    This class implements a linguistic variable.\n",
    "    Linguistic values are defined at initialization by specifying their membership functions.\n",
    "    \"\"\"\n",
    "    def __init__(self, name, v_min, v_max, membership_functions, level_names=None, res=0.1):\n",
    "        \"\"\"\n",
    "        Six parameters needed:\n",
    "        name: name of the variable\n",
    "        v_min: minimum value of the variable\n",
    "        v_max: maximum value of the variable\n",
    "        membership_functions: list of membership_functions defining the linguistic values\n",
    "        level_names: optional, name, or list of names of the linguistic values\n",
    "        res: resolution\n",
    "        \"\"\"\n",
    "        self.name = name\n",
    "        assert v_max > v_min\n",
    "        assert v_min <= min([min(m_f.input_values) for m_f in membership_functions])\n",
    "        assert v_max >= max([max(m_f.input_values) for m_f in membership_functions])\n",
    "        self.v_min = v_min\n",
    "        self.v_max = v_max\n",
    "        self.resolution = res\n",
    "        self.input_values = np.arange(self.v_min, self.v_max, self.resolution)\n",
    "        self.__set_membership_functions(membership_functions, level_names)\n",
    "        self.input_value = None\n",
    "        self.membership_values = dict()\n",
    "    \n",
    "    def __set_membership_functions(self, membership_functions, level_names):\n",
    "        if level_names is None:\n",
    "            level_names = 'V_level_'\n",
    "        if isinstance(level_names, str):\n",
    "            level_names = [level_names]\n",
    "        if (len(level_names) == 1):\n",
    "            if not level_names[0].endswith('_level_'):\n",
    "                level_names[0] += '_level_'\n",
    "            level_names = [level_names[0] + str(i) for i in np.arange(len(self.membership_functions))]\n",
    "        assert len(level_names) == len(membership_functions)\n",
    "        self.level_names = level_names\n",
    "        self.membership_functions = {level_names[i]:membership_functions[i] for i in np.arange(len(membership_functions))}"
   ]
  },
  {
   "cell_type": "markdown",
   "metadata": {},
   "source": [
    "### An example of the NonConstrainedLinguisticVariable"
   ]
  },
  {
   "cell_type": "markdown",
   "metadata": {},
   "source": [
    "Define the free-shaped membership functions"
   ]
  },
  {
   "cell_type": "code",
   "execution_count": 100,
   "metadata": {
    "collapsed": false
   },
   "outputs": [
    {
     "data": {
      "image/png": "[encoded data removed]",
      "text/plain": [
       "<matplotlib.figure.Figure at 0x7fc281da8050>"
      ]
     },
     "metadata": {},
     "output_type": "display_data"
    }
   ],
   "source": [
    "# Let's first define some basic functions\n",
    "def gaussian(x, mu, sig):\n",
    "    return np.exp(-np.power(x - mu, 2.) / (2 * np.power(sig, 2.)))\n",
    "def sigmoid(x, mu, sig):\n",
    "    return 1 / (1 + np.exp(sig * (mu - x)))\n",
    "\n",
    "# These are common constants\n",
    "min_value = 0.0\n",
    "max_value = 120.0\n",
    "resolution = 1.0\n",
    "input_values = np.arange(min_value, max_value, resolution)\n",
    "\n",
    "# Definition of three linguistic values\n",
    "slow = FreeShapeMF([20.0, 40.0], [1.0, 0.0])                        # Trapezoid\n",
    "normal = FreeShapeMF(input_values, gaussian(input_values, 60.0, 10))# Gaussian\n",
    "fast = FreeShapeMF(input_values, sigmoid(input_values, 80.0, 0.1))  # Sigmoid\n",
    "\n",
    "# Plot them\n",
    "pl.figure(figsize=(12,4))\n",
    "pl.subplot(1,3,1)\n",
    "slow.plot(input_values)\n",
    "pl.subplot(1,3,2)\n",
    "normal.plot(input_values)\n",
    "pl.subplot(1,3,3)\n",
    "fast.plot(input_values)"
   ]
  },
  {
   "cell_type": "markdown",
   "metadata": {},
   "source": [
    "Define the linguistic variable using the linguistic values and constants created before"
   ]
  },
  {
   "cell_type": "code",
   "execution_count": 101,
   "metadata": {
    "collapsed": false
   },
   "outputs": [],
   "source": [
    "speed = NonConstrainedLinguisticVariable('Speed', min_value, max_value, [slow, normal, fast], ['slow', 'normal','fast'])"
   ]
  },
  {
   "cell_type": "markdown",
   "metadata": {},
   "source": [
    "Notice that printing the linguistic variable gives us each one of the points that are defined in the functions  \n",
    "These values can be more or less difficult to read deppending on the shape of the linguistic value  \n",
    "- Observe the difference between slow and fast"
   ]
  },
  {
   "cell_type": "code",
   "execution_count": 102,
   "metadata": {
    "collapsed": false
   },
   "outputs": [
    {
     "name": "stdout",
     "output_type": "stream",
     "text": [
      "Speed\n",
      "slow: [(20.0, 1.0), (40.0, 0.0)]\n",
      "fast: [(0.0, 0.00033535013046647811), (1.0, 0.00037060614062639654), (2.0, 0.00040956716498605005), (3.0, 0.00045262222324053502), (4.0, 0.00050020110707956389), (5.0, 0.00055277863692359955), (6.0, 0.00061087935943440102), (7.0, 0.00067508273063283746), (8.0, 0.00074602883383669699), (9.0, 0.00082442468639829457), (10.0, 0.00091105119440064539), (11.0, 0.0010067708200856369), (12.0, 0.0011125360328603205), (13.0, 0.0012293986212774202), (14.0, 0.0013585199504289581), (15.0, 0.0015011822567369917), (16.0, 0.0016588010801744215), (17.0, 0.0018329389424928035), (18.0, 0.0020253203890498819), (19.0, 0.0022378485212763317), (20.0, 0.0024726231566347743), (21.0, 0.0027319607630110591), (22.0, 0.0030184163247084215), (23.0, 0.0033348073074133443), (24.0, 0.0036842398994359859), (25.0, 0.0040701377158961277), (26.0, 0.0044962731609411782), (27.0, 0.0049668016500569569), (28.0, 0.0054862988994504036), (29.0, 0.0060598014915841103), (30.0, 0.0066928509242848554), (31.0, 0.0073915413442819707), (32.0, 0.0081625711531598897), (33.0, 0.0090132986528478221), (34.0, 0.0099518018669043171), (35.0, 0.01098694263059318), (36.0, 0.012128434984274237), (37.0, 0.013386917827664779), (38.0, 0.014774031693273055), (39.0, 0.016302499371440932), (40.0, 0.017986209962091559), (41.0, 0.019840305734077503), (42.0, 0.021881270936130466), (43.0, 0.024127021417669196), (44.0, 0.026596993576865856), (45.0, 0.029312230751356319), (46.0, 0.032295464698450495), (47.0, 0.035571189272636167), (48.0, 0.039165722796764356), (49.0, 0.043107254941086116), (50.0, 0.047425873177566781), (51.0, 0.052153563078417717), (52.0, 0.057324175898868727), (53.0, 0.062973356056996485), (54.0, 0.069138420343346815), (55.0, 0.075858180021243546), (56.0, 0.083172696493922352), (57.0, 0.091122961014856119), (58.0, 0.099750489119685135), (59.0, 0.10909682119561293), (60.0, 0.11920292202211755), (61.0, 0.13010847436299783), (62.0, 0.14185106490048777), (63.0, 0.15446526508353467), (64.0, 0.16798161486607552), (65.0, 0.18242552380635635), (66.0, 0.19781611144141822), (67.0, 0.21416501695744139), (68.0, 0.23147521650098232), (69.0, 0.24973989440488234), (70.0, 0.2689414213699951), (71.0, 0.289050497374996), (72.0, 0.31002551887238755), (73.0, 0.33181222783183389), (74.0, 0.35434369377420455), (75.0, 0.37754066879814541), (76.0, 0.401312339887548), (77.0, 0.42555748318834102), (78.0, 0.45016600268752216), (79.0, 0.47502081252105999), (80.0, 0.5), (81.0, 0.52497918747894001), (82.0, 0.54983399731247795), (83.0, 0.57444251681165903), (84.0, 0.598687660112452), (85.0, 0.62245933120185459), (86.0, 0.6456563062257954), (87.0, 0.66818777216816616), (88.0, 0.6899744811276125), (89.0, 0.71094950262500389), (90.0, 0.7310585786300049), (91.0, 0.75026010559511769), (92.0, 0.76852478349901776), (93.0, 0.78583498304255861), (94.0, 0.8021838885585818), (95.0, 0.81757447619364365), (96.0, 0.83201838513392445), (97.0, 0.84553473491646525), (98.0, 0.85814893509951229), (99.0, 0.86989152563700212), (100.0, 0.88079707797788231), (101.0, 0.89090317880438707), (102.0, 0.9002495108803148), (103.0, 0.90887703898514383), (104.0, 0.91682730350607766), (105.0, 0.92414181997875655), (106.0, 0.93086157965665328), (107.0, 0.9370266439430035), (108.0, 0.94267582410113127), (109.0, 0.94784643692158232), (110.0, 0.95257412682243336), (111.0, 0.95689274505891386), (112.0, 0.96083427720323566), (113.0, 0.96442881072736386), (114.0, 0.96770453530154954), (115.0, 0.97068776924864364), (116.0, 0.97340300642313404), (117.0, 0.9758729785823308), (118.0, 0.97811872906386943), (119.0, 0.98015969426592253)]\n",
      "normal: [(0.0, 1.5229979744712629e-08), (1.0, 2.7612424568280349e-08), (2.0, 4.9564053191724981e-08), (3.0, 8.8081791964605571e-08), (4.0, 1.5497531357028967e-07), (5.0, 2.6995785033630141e-07), (6.0, 4.6557157157830866e-07), (7.0, 7.9493936153491407e-07), (8.0, 1.3438122776315214e-06), (9.0, 2.2490559670323425e-06), (10.0, 3.7266531720786709e-06), (11.0, 6.1135679663714022e-06), (12.0, 9.9295043058510811e-06), (13.0, 1.5966783897804747e-05), (14.0, 2.5419346516199247e-05), (15.0, 4.0065297392951069e-05), (16.0, 6.252150377482026e-05), (17.0, 9.6593413722184009e-05), (18.0, 0.00014774836023203364), (19.0, 0.00022374579372062055), (20.0, 0.00033546262790251185), (21.0, 0.00049795542150327349), (22.0, 0.00073180241888047277), (23.0, 0.0010647662366679205), (24.0, 0.001533810679324463), (25.0, 0.0021874911181828851), (26.0, 0.0030887154082367687), (27.0, 0.0043178400076330781), (28.0, 0.0059760228950059427), (29.0, 0.0081887010143740831), (30.0, 0.011108996538242306), (31.0, 0.014920786069067842), (32.0, 0.019841094744370288), (33.0, 0.026121409853918233), (34.0, 0.034047454734599344), (35.0, 0.04393693362340742), (36.0, 0.056134762834133725), (37.0, 0.071005353739636984), (38.0, 0.088921617459386343), (39.0, 0.11025052530448522), (40.0, 0.1353352832366127), (41.0, 0.1644744565771549), (42.0, 0.19789869908361465), (43.0, 0.23574607655586352), (44.0, 0.27803730045319414), (45.0, 0.32465246735834974), (46.0, 0.37531109885139957), (47.0, 0.42955735821073915), (48.0, 0.48675225595997168), (49.0, 0.5460744266397094), (50.0, 0.60653065971263342), (51.0, 0.66697681085847438), (52.0, 0.72614903707369094), (53.0, 0.78270453824186814), (54.0, 0.835270211411272), (55.0, 0.88249690258459546), (56.0, 0.92311634638663576), (57.0, 0.95599748183309996), (58.0, 0.98019867330675525), (59.0, 0.99501247919268232), (60.0, 1.0), (61.0, 0.99501247919268232), (62.0, 0.98019867330675525), (63.0, 0.95599748183309996), (64.0, 0.92311634638663576), (65.0, 0.88249690258459546), (66.0, 0.835270211411272), (67.0, 0.78270453824186814), (68.0, 0.72614903707369094), (69.0, 0.66697681085847438), (70.0, 0.60653065971263342), (71.0, 0.5460744266397094), (72.0, 0.48675225595997168), (73.0, 0.42955735821073915), (74.0, 0.37531109885139957), (75.0, 0.32465246735834974), (76.0, 0.27803730045319414), (77.0, 0.23574607655586352), (78.0, 0.19789869908361465), (79.0, 0.1644744565771549), (80.0, 0.1353352832366127), (81.0, 0.11025052530448522), (82.0, 0.088921617459386343), (83.0, 0.071005353739636984), (84.0, 0.056134762834133725), (85.0, 0.04393693362340742), (86.0, 0.034047454734599344), (87.0, 0.026121409853918233), (88.0, 0.019841094744370288), (89.0, 0.014920786069067842), (90.0, 0.011108996538242306), (91.0, 0.0081887010143740831), (92.0, 0.0059760228950059427), (93.0, 0.0043178400076330781), (94.0, 0.0030887154082367687), (95.0, 0.0021874911181828851), (96.0, 0.001533810679324463), (97.0, 0.0010647662366679205), (98.0, 0.00073180241888047277), (99.0, 0.00049795542150327349), (100.0, 0.00033546262790251185), (101.0, 0.00022374579372062055), (102.0, 0.00014774836023203364), (103.0, 9.6593413722184009e-05), (104.0, 6.252150377482026e-05), (105.0, 4.0065297392951069e-05), (106.0, 2.5419346516199247e-05), (107.0, 1.5966783897804747e-05), (108.0, 9.9295043058510811e-06), (109.0, 6.1135679663714022e-06), (110.0, 3.7266531720786709e-06), (111.0, 2.2490559670323425e-06), (112.0, 1.3438122776315214e-06), (113.0, 7.9493936153491407e-07), (114.0, 4.6557157157830866e-07), (115.0, 2.6995785033630141e-07), (116.0, 1.5497531357028967e-07), (117.0, 8.8081791964605571e-08), (118.0, 4.9564053191724981e-08), (119.0, 2.7612424568280349e-08)]\n",
      "\n"
     ]
    }
   ],
   "source": [
    "print speed"
   ]
  },
  {
   "cell_type": "markdown",
   "metadata": {},
   "source": [
    "The method \"fuzzify\" finds the degree of membership to each linguistic value for a given input value"
   ]
  },
  {
   "cell_type": "code",
   "execution_count": 103,
   "metadata": {
    "collapsed": false
   },
   "outputs": [
    {
     "data": {
      "text/plain": [
       "{'fast': 0.2689414213699951, 'normal': 0.60653065971263342, 'slow': 0.0}"
      ]
     },
     "execution_count": 103,
     "metadata": {},
     "output_type": "execute_result"
    }
   ],
   "source": [
    "speed.fuzzify(70)"
   ]
  },
  {
   "cell_type": "code",
   "execution_count": 104,
   "metadata": {
    "collapsed": false
   },
   "outputs": [
    {
     "data": {
      "image/png": "[encoded data removed]",
      "text/plain": [
       "<matplotlib.figure.Figure at 0x7fc281cd7fd0>"
      ]
     },
     "metadata": {},
     "output_type": "display_data"
    }
   ],
   "source": [
    "speed.plot()"
   ]
  },
  {
   "cell_type": "code",
   "execution_count": 105,
   "metadata": {
    "collapsed": false
   },
   "outputs": [
    {
     "data": {
      "image/png": "[encoded data removed]",
      "text/plain": [
       "<matplotlib.figure.Figure at 0x7fc281ad5190>"
      ]
     },
     "metadata": {},
     "output_type": "display_data"
    }
   ],
   "source": [
    "speed.plot_linguistic_value('fast')"
   ]
  },
  {
   "cell_type": "markdown",
   "metadata": {},
   "source": [
    "----------------------------"
   ]
  },
  {
   "cell_type": "markdown",
   "metadata": {},
   "source": [
    "## The interpretable linguistic variable\n",
    "Now, let's explore an implementation of linguistic variable in which linguisitic values are constrained to have trapezoidal shapes and where transition points are shared between adjacent values. This implementation receives (among other parameters) a list of transition points from which membership functions of type FreeShapeMF are defined."
   ]
  },
  {
   "cell_type": "code",
   "execution_count": 76,
   "metadata": {
    "collapsed": true
   },
   "outputs": [],
   "source": [
    "class InterpretableLinguisticVariable(LinguisticVariable):\n",
    "    \"\"\"\n",
    "    This class implements a linguistic variable with some constraints\n",
    "    in the definition in its membership functions.\n",
    "    Linguistic values are shaped as trapezoidal membership functions,\n",
    "    each membership function is defined by a a series of 2 or 4 points:\n",
    "    \n",
    "    1 _____p[0].  _ _ _ _ _ _      1 _ _ _  p[1].________.p[2] _ _ _ _temperature.fuzzify(19)\n",
    "                \\\\                              /          \\\\\n",
    "                 \\\\                            /            \\\\\n",
    "                  \\\\                          /              \\\\\n",
    "                   \\\\                        /                \\\\\n",
    "    0 _ _ _ _ _ _ _ \\\\._______      0 _____./_ _ _ _ _ _ _ _ _ \\\\.______\n",
    "                      p[1]                  p[0]                   p[3]\n",
    "    \n",
    "    Therefore, linguistic values are defined at initialization by specifying\n",
    "    their transition points:\n",
    "    \n",
    "    1 _______   t[1]_______   t[3]__   t[5]______ . . .\n",
    "             \\\\   /         \\\\   /    \\\\   / \n",
    "              \\\\ /           \\\\ /      \\\\ /\n",
    "               X             X        X\n",
    "              / \\\\           / \\\\      / \\\\\n",
    "    0 _______/   \\\\_________/   \\\\____/   \\\\________ . . .\n",
    "           t[0]          t[2]     t[4]\n",
    "    \n",
    "    \"\"\"\n",
    "    def __init__(self, name, v_min, v_max, transitions, level_names=None, res=0.1):\n",
    "        \"\"\"\n",
    "        Four parameters needed:\n",
    "        name: name of the variable\n",
    "        v_min: minimum input value\n",
    "        v_max: maximum input value\n",
    "        transitions: list of values defining the starting and ending points of the linguistic values\n",
    "        level_names: optional, name, or list of names of the linguistic values\n",
    "        res: resolution\n",
    "        \"\"\"\n",
    "        self.name = name\n",
    "        assert v_min < v_max\n",
    "        self.v_min = v_min\n",
    "        self.v_max = v_max\n",
    "        self.resolution = res\n",
    "        self.input_values = np.arange(self.v_min, self.v_max, self.resolution)\n",
    "        self.__set_transitions(transitions)\n",
    "        self.__set_level_names(level_names)\n",
    "        self.membership_functions = dict()\n",
    "        self.membership_functions[self.level_names[0]] = FreeShapeMF([self.transitions[0], self.transitions[1]],\n",
    "                                                                     [1.0,                 0.0])\n",
    "        for i in np.arange(1, len(self.level_names) - 1):\n",
    "            self.membership_functions[self.level_names[i]] = FreeShapeMF([self.transitions[(i*2) - 2],\n",
    "                                                                          self.transitions[(i*2) - 1],\n",
    "                                                                          self.transitions[(i*2) + 0],\n",
    "                                                                          self.transitions[(i*2) + 1]],\n",
    "                                                                         [0.0, 1.0, 1.0, 0.0])\n",
    "        self.membership_functions[self.level_names[-1]] = FreeShapeMF([self.transitions[-2], self.transitions[-1]],\n",
    "                                                                      [0.0,                  1.0])\n",
    "        self.input_value = None\n",
    "        self.membership_values = dict()\n",
    "\n",
    "    def __set_transitions(self, transitions):\n",
    "        n_transitions = len(transitions)\n",
    "        assert n_transitions >= 2\n",
    "        assert n_transitions % 2 == 0\n",
    "        assert self.v_min <= transitions[0]\n",
    "        assert transitions[-1] <= self.v_max\n",
    "        for i in np.arange(1, n_transitions):\n",
    "            assert transitions[i-1] <= transitions[i]\n",
    "        self.transitions= transitions\n",
    "    \n",
    "    def __set_level_names(self, level_names):\n",
    "        if level_names is None:\n",
    "            level_names = 'V_level_'\n",
    "        if isinstance(level_names, str):\n",
    "            level_names = [level_names]\n",
    "        if (len(level_names) == 1):\n",
    "            if not level_names[0].endswith('_level_'):\n",
    "                level_names[0] += '_level_'\n",
    "            level_names = [level_names[0] + str(i) for i in np.arange((len(self.transitions) / 2) + 1)]\n",
    "        assert len(level_names) == (len(self.transitions) / 2) + 1\n",
    "        self.level_names = level_names"
   ]
  },
  {
   "cell_type": "markdown",
   "metadata": {},
   "source": [
    "### An example of how to use the InterpretableLinguisticVariable\n",
    "This linguistic variable is created with 4 transition points: 5, 10, 15, 20. The first two transition points are shared between the linguistic values low and medium. The two last transition points are shared between the linguistic values medium and high."
   ]
  },
  {
   "cell_type": "code",
   "execution_count": 113,
   "metadata": {
    "collapsed": false
   },
   "outputs": [],
   "source": [
    "speed = InterpretableLinguisticVariable('Speed', 0, 120, [20,40,60,80], ['slow', 'normal','fast'], res=1.0)"
   ]
  },
  {
   "cell_type": "markdown",
   "metadata": {},
   "source": [
    "Notice that, in this case, the results of printing the linguistic variable are much more easy to read and interpret"
   ]
  },
  {
   "cell_type": "code",
   "execution_count": 114,
   "metadata": {
    "collapsed": false
   },
   "outputs": [
    {
     "name": "stdout",
     "output_type": "stream",
     "text": [
      "Speed\n",
      "slow: [(20, 1.0), (40, 0.0)]\n",
      "fast: [(60, 0.0), (80, 1.0)]\n",
      "normal: [(20, 0.0), (40, 1.0), (60, 1.0), (80, 0.0)]\n",
      "\n"
     ]
    }
   ],
   "source": [
    "print speed"
   ]
  },
  {
   "cell_type": "code",
   "execution_count": 115,
   "metadata": {
    "collapsed": false
   },
   "outputs": [
    {
     "data": {
      "text/plain": [
       "{'fast': 0.5, 'normal': 0.5, 'slow': 0.0}"
      ]
     },
     "execution_count": 115,
     "metadata": {},
     "output_type": "execute_result"
    }
   ],
   "source": [
    "speed.fuzzify(70)"
   ]
  },
  {
   "cell_type": "code",
   "execution_count": 116,
   "metadata": {
    "collapsed": false
   },
   "outputs": [
    {
     "data": {
      "image/png": "[encoded data removed]",
      "text/plain": [
       "<matplotlib.figure.Figure at 0x7fc281e634d0>"
      ]
     },
     "metadata": {},
     "output_type": "display_data"
    }
   ],
   "source": [
    "speed.plot()"
   ]
  },
  {
   "cell_type": "code",
   "execution_count": 117,
   "metadata": {
    "collapsed": false
   },
   "outputs": [
    {
     "data": {
      "image/png": "[encoded data removed]",
      "text/plain": [
       "<matplotlib.figure.Figure at 0x7fc2818eaad0>"
      ]
     },
     "metadata": {},
     "output_type": "display_data"
    }
   ],
   "source": [
    "speed.plot_linguistic_value('fast')"
   ]
  },
  {
   "cell_type": "markdown",
   "metadata": {},
   "source": [
    "-------------"
   ]
  },
  {
   "cell_type": "markdown",
   "metadata": {},
   "source": [
    "## Exercise"
   ]
  },
  {
   "cell_type": "markdown",
   "metadata": {},
   "source": [
    "Create linguistic variables for the three variables in the \"tourist prediction problem\":\n",
    "- Temperature\n",
    "- Sun\n",
    "- Tourists"
   ]
  }
 ],
 "metadata": {
  "kernelspec": {
   "display_name": "Python 2",
   "language": "python",
   "name": "python2"
  },
  "language_info": {
   "codemirror_mode": {
    "name": "ipython",
    "version": 2
   },
   "file_extension": ".py",
   "mimetype": "text/x-python",
   "name": "python",
   "nbconvert_exporter": "python",
   "pygments_lexer": "ipython2",
   "version": "2.7.9"
  }
 },
 "nbformat": 4,
 "nbformat_minor": 0
}
