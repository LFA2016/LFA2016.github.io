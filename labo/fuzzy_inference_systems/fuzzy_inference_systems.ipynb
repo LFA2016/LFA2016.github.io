{
 "cells": [
  {
   "cell_type": "markdown",
   "metadata": {},
   "source": [
    "# Fuzzy inference system\n",
    "The goal of this notebook is to provide an implementation allowing you to explore the creation of a fuzzy inference system. We will demonstrate the use of this implementation in the tourist prediction problem, and we will ask you to test it in other problems."
   ]
  },
  {
   "cell_type": "code",
   "execution_count": null,
   "metadata": {
    "collapsed": true
   },
   "outputs": [],
   "source": [
    "import numpy as np\n",
    "import matplotlib.pyplot as pl\n",
    "from mpl_toolkits.mplot3d import Axes3D\n",
    "from matplotlib import cm\n",
    "\n",
    "%matplotlib inline"
   ]
  },
  {
   "cell_type": "markdown",
   "metadata": {},
   "source": [
    "The implementation of the linguistic variable and the fuzzy rule are not written here. Instead they are loaded from python files."
   ]
  },
  {
   "cell_type": "code",
   "execution_count": null,
   "metadata": {
    "collapsed": false
   },
   "outputs": [],
   "source": [
    "import linguistic_variable as lv\n",
    "import fuzzy_rule as fr"
   ]
  },
  {
   "cell_type": "markdown",
   "metadata": {},
   "source": [
    "The constructor of the implementation of fuzzy inference system we propose receives 3 arguments as inputs:\n",
    "- rules: a list of rules of type FuzzyRules (in file fuzzy_rule.py)\n",
    "- aggregator: the function to use as aggregator. Options are:\n",
    "    - OR_max: maximum\n",
    "    - OR_probsum: probabilistic sum\n",
    "    - OR_boundsum: bounded sum\n",
    "- defuzzifier: the method used for defuzzifying the output. Options are:\n",
    "    - COA: center of areas\n",
    "    - MOM: minimum of maximums"
   ]
  },
  {
   "cell_type": "code",
   "execution_count": null,
   "metadata": {
    "collapsed": false
   },
   "outputs": [],
   "source": [
    "class FIS:\n",
    "    \"\"\"\n",
    "    This class implements a Fuzzy Inference System (FIS).\n",
    "    Available aggregators are:\n",
    "    - OR_max: maximum\n",
    "    - OR_probsum: probabilistic sum\n",
    "    - OR_boundsum: bounded sum\n",
    "    Available defuzzifiers are:\n",
    "    - COA: center of areas\n",
    "    - MOM: minimum of maximums\n",
    "    \"\"\"\n",
    "    \n",
    "    def __mom(v, m):\n",
    "        i = np.argmax(m)\n",
    "        y_inf = v[min(i)]\n",
    "        y_sup = v[max(i)]\n",
    "        return (y_inf + y_sup) / 2.0\n",
    "        \n",
    "    __fuzzy_aggregators = {'OR_max': np.maximum,\n",
    "                           'OR_probsum': lambda x,y: np.add(x, y) - np.multiply(x, y),\n",
    "                           'OR_boundsum': lambda x,y: np.minimum(1, np.add(x, y))}\n",
    "    __fuzzy_defuzzifiers = {'COA': lambda v,m: np.sum(np.multiply(v,m)) / np.sum(m),\n",
    "                            'MOM': __mom}\n",
    "    \n",
    "    def __init__(self, rules, aggregator='OR_max', defuzzifier='COA'):\n",
    "        \"\"\"\n",
    "        Three parameters are needed:\n",
    "        rules: a list of objects of type FuzzyRule containing the rules of the system\n",
    "        aggregator: the fuzzy operator to be used to aggregate the rules outputs\n",
    "        defuzzifier: the defuzzifier function to use\n",
    "        \"\"\"\n",
    "        self.rules = rules\n",
    "        self.input_variables = set()\n",
    "        for r in self.rules:\n",
    "            for a in r.antecedent:\n",
    "                self.input_variables.add(a[0])\n",
    "            self.output_variable = r.consequent[0]\n",
    "        \n",
    "        assert aggregator in self.__fuzzy_aggregators.keys()\n",
    "        self.aggregator = self.__fuzzy_aggregators[aggregator]\n",
    "        \n",
    "        assert defuzzifier in self.__fuzzy_defuzzifiers.keys()\n",
    "        self.defuzzifier = defuzzifier\n",
    "        \n",
    "        self.input_values = dict()\n",
    "        self.fuzzified_output = np.zeros(len(self.output_variable.input_values))\n",
    "        self.defuzzified_output = 0.0\n",
    "    \n",
    "    def __str__(self):\n",
    "        to_return = 'Input variables:\\n'\n",
    "        to_return += '\\t' + str([i_v.name for i_v in self.input_variables]) + '\\n'\n",
    "        to_return += 'Output variables:\\n'\n",
    "        to_return += '\\t' + self.output_variable.name + '\\n'\n",
    "        to_return += 'Rules:\\n'\n",
    "        for r in self.rules:\n",
    "            to_return += '\\t' + str(r) + '\\n'\n",
    "        return to_return\n",
    "    \n",
    "    def compute_antecedent_activations(self, input_values):\n",
    "        \"\"\"\n",
    "        This function computes the activation of the antecedent of all rules.\n",
    "        \"\"\"\n",
    "        self.input_values = input_values\n",
    "        for r in self.rules:\n",
    "            r.compute_antecedent_activation(input_values)\n",
    "    \n",
    "    def compute_consequent_activations(self):\n",
    "        \"\"\"\n",
    "        This function computes the activation of the consequent of all rules.\n",
    "        \"\"\"\n",
    "        for r in self.rules:\n",
    "            r.compute_consequent_activation()\n",
    "    \n",
    "    def aggregate(self):\n",
    "        \"\"\"\n",
    "        This function performs the aggregation of the rules outputs\n",
    "        \"\"\"\n",
    "        self.fuzzified_output = np.zeros(len(self.output_variable.input_values))\n",
    "        for r in self.rules:\n",
    "            self.fuzzified_output = self.aggregator(self.fuzzified_output, r.consequent_activation)\n",
    "    \n",
    "    def defuzzify(self):\n",
    "        \"\"\"\n",
    "        This function defuzzifies the fuzzified_output of the system\n",
    "        \"\"\"\n",
    "        self.defuzzified_output = self.__fuzzy_defuzzifiers[self.defuzzifier](self.output_variable.input_values, self.fuzzified_output)\n",
    "        return self.defuzzified_output\n",
    "    \n",
    "    def plot_variables(self):\n",
    "        i = 1\n",
    "        n_lv = len(self.input_variables) + 1\n",
    "        for i_v in self.input_variables:\n",
    "            pl.subplot(1, n_lv, i)\n",
    "            i += 1\n",
    "            i_v.plot()\n",
    "        pl.subplot(1, n_lv, i)\n",
    "        self.output_variable.plot()\n",
    "    \n",
    "    def plot_rules(self):\n",
    "        n_r = len(self.rules)\n",
    "        for i, r in enumerate(self.rules):\n",
    "            pl.subplot(1, n_r, i+1)\n",
    "            r.plot()\n",
    "    \n",
    "    def plot_output(self):\n",
    "        pl.plot(self.output_variable.input_values, self.fuzzified_output)\n",
    "        pl.axvline(self.defuzzified_output, color='black', linestyle='--')\n",
    "        pl.ylim(0, 1.05)\n",
    "        pl.grid()\n",
    "        pl.title(self.output_variable.name + str(self.input_values))\n",
    "    \n",
    "    def plot2D(self, ax=None):\n",
    "        \"\"\"\n",
    "        Only works for systems with two inputs!!\n",
    "        \"\"\"\n",
    "        \n",
    "        assert len(self.input_variables) == 2\n",
    "        \n",
    "        vars_list = []\n",
    "        for v in self.input_variables:\n",
    "            vars_list.append(v)\n",
    "            \n",
    "        var1 = vars_list[0]\n",
    "        var2 = vars_list[1]\n",
    "        n_var1 = len(var1.input_values)\n",
    "        n_var2 = len(var2.input_values)\n",
    "        \n",
    "        input_values = {var1.name:0, var2.name:0}\n",
    "        X, Y = np.meshgrid(var1.input_values, var2.input_values)\n",
    "        Z = np.zeros((n_var2, n_var1))\n",
    "        \n",
    "        for i in np.arange(n_var1):\n",
    "            for j in np.arange(n_var2):\n",
    "                input_values[var1.name] = X[j,i]\n",
    "                input_values[var2.name] = Y[j,i]\n",
    "                self.compute_antecedent_activations(input_values)\n",
    "                self.compute_consequent_activations()\n",
    "                self.aggregate()\n",
    "                Z[j,i] = self.defuzzify()\n",
    "\n",
    "        if ax is None:\n",
    "            ax = pl.gca(projection='3d')\n",
    "        surf = ax.plot_surface(X, Y, Z, rstride=1, cstride=1, cmap=cm.coolwarm, linewidth=0, antialiased=False)\n",
    "        ax.set_xlabel(var1.name)\n",
    "        ax.set_ylabel(var2.name)\n",
    "        ax.set_zlabel(self.output_variable.name)\n",
    "        \n",
    "    def plot(self, size=None):\n",
    "        if size is None:\n",
    "            size = (12,4)\n",
    "        pl.figure(figsize=size)\n",
    "        self.plot_variables()\n",
    "        pl.figure(figsize=size)\n",
    "        self.plot_rules()\n",
    "        pl.figure(figsize=size)\n",
    "        self.plot_output()"
   ]
  },
  {
   "cell_type": "markdown",
   "metadata": {},
   "source": [
    "## An example: \"the tourists prediction problem\""
   ]
  },
  {
   "cell_type": "markdown",
   "metadata": {},
   "source": [
    "We start by creating the linguistic variables involved in the problem"
   ]
  },
  {
   "cell_type": "code",
   "execution_count": null,
   "metadata": {
    "collapsed": false
   },
   "outputs": [],
   "source": [
    "temperature = lv.LinguisticVariable('temperature', 0, 35, [17, 20, 26, 29], ['cold', 'warm', 'hot'], res=1.0)\n",
    "sunshine = lv.LinguisticVariable('sunshine', 0, 100, [30, 50, 50, 100], ['cloudy', 'partsunny', 'sunny'], res=1.0)\n",
    "tourists = lv.LinguisticVariable('tourists', 0, 100, [0, 50, 50, 100], ['low', 'medium', 'high'], res=1.0)"
   ]
  },
  {
   "cell_type": "code",
   "execution_count": null,
   "metadata": {
    "collapsed": false
   },
   "outputs": [],
   "source": [
    "pl.figure(figsize=(15,4))\n",
    "pl.subplot(1,3,1)\n",
    "temperature.plot()\n",
    "pl.subplot(1,3,2)\n",
    "sunshine.plot()\n",
    "pl.subplot(1,3,3)\n",
    "tourists.plot()"
   ]
  },
  {
   "cell_type": "markdown",
   "metadata": {},
   "source": [
    "Then, we create the three rules describing the system"
   ]
  },
  {
   "cell_type": "code",
   "execution_count": null,
   "metadata": {
    "collapsed": false
   },
   "outputs": [],
   "source": [
    "rule_1 = fr.FuzzyRule('OR_max', [(temperature, 'hot'), (sunshine, 'sunny')], (tourists, 'high'), 'MIN')\n",
    "rule_2 = fr.FuzzyRule('AND_min', [(temperature, 'warm'), (sunshine, 'partsunny')], (tourists, 'medium'), 'MIN')\n",
    "rule_3 = fr.FuzzyRule('OR_max', [(temperature, 'cold'), (sunshine, 'cloudy')], (tourists, 'low'), 'MIN')"
   ]
  },
  {
   "cell_type": "code",
   "execution_count": null,
   "metadata": {
    "collapsed": false
   },
   "outputs": [],
   "source": [
    "print rule_1\n",
    "print rule_2\n",
    "print rule_3"
   ]
  },
  {
   "cell_type": "markdown",
   "metadata": {},
   "source": [
    "Finally, we create the Fuzzy Inference System"
   ]
  },
  {
   "cell_type": "code",
   "execution_count": null,
   "metadata": {
    "collapsed": false
   },
   "outputs": [],
   "source": [
    "tourist_prediction_example = FIS([rule_1, rule_2, rule_3])"
   ]
  },
  {
   "cell_type": "code",
   "execution_count": null,
   "metadata": {
    "collapsed": false,
    "scrolled": false
   },
   "outputs": [],
   "source": [
    "print tourist_prediction_example"
   ]
  },
  {
   "cell_type": "code",
   "execution_count": null,
   "metadata": {
    "collapsed": false
   },
   "outputs": [],
   "source": [
    "pl.figure(figsize=(8,8))\n",
    "tourist_prediction_example.plot2D()"
   ]
  },
  {
   "cell_type": "markdown",
   "metadata": {},
   "source": [
    "And we define some input values for testing"
   ]
  },
  {
   "cell_type": "code",
   "execution_count": null,
   "metadata": {
    "collapsed": true
   },
   "outputs": [],
   "source": [
    "input_values = {'temperature': 19, 'sunshine': 60}"
   ]
  },
  {
   "cell_type": "markdown",
   "metadata": {},
   "source": [
    "### Antecedent activation"
   ]
  },
  {
   "cell_type": "code",
   "execution_count": null,
   "metadata": {
    "collapsed": false
   },
   "outputs": [],
   "source": [
    "tourist_prediction_example.compute_antecedent_activations(input_values)"
   ]
  },
  {
   "cell_type": "code",
   "execution_count": null,
   "metadata": {
    "collapsed": false
   },
   "outputs": [],
   "source": [
    "print tourist_prediction_example"
   ]
  },
  {
   "cell_type": "code",
   "execution_count": null,
   "metadata": {
    "collapsed": false
   },
   "outputs": [],
   "source": [
    "pl.figure(figsize=(12,4))\n",
    "tourist_prediction_example.plot_variables()"
   ]
  },
  {
   "cell_type": "markdown",
   "metadata": {},
   "source": [
    "### Consequent activation"
   ]
  },
  {
   "cell_type": "code",
   "execution_count": null,
   "metadata": {
    "collapsed": false
   },
   "outputs": [],
   "source": [
    "tourist_prediction_example.compute_consequent_activations()"
   ]
  },
  {
   "cell_type": "code",
   "execution_count": null,
   "metadata": {
    "collapsed": false
   },
   "outputs": [],
   "source": [
    "pl.figure(figsize=(12,4))\n",
    "tourist_prediction_example.plot_rules()"
   ]
  },
  {
   "cell_type": "markdown",
   "metadata": {},
   "source": [
    "### Aggregation and Defuzzification"
   ]
  },
  {
   "cell_type": "code",
   "execution_count": null,
   "metadata": {
    "collapsed": false
   },
   "outputs": [],
   "source": [
    "tourist_prediction_example.aggregate()\n",
    "tourist_prediction_example.defuzzify()"
   ]
  },
  {
   "cell_type": "code",
   "execution_count": null,
   "metadata": {
    "collapsed": false
   },
   "outputs": [],
   "source": [
    "tourist_prediction_example.plot_output()"
   ]
  },
  {
   "cell_type": "markdown",
   "metadata": {},
   "source": [
    "### Plot"
   ]
  },
  {
   "cell_type": "code",
   "execution_count": null,
   "metadata": {
    "collapsed": false
   },
   "outputs": [],
   "source": [
    "tourist_prediction_example.plot()"
   ]
  },
  {
   "cell_type": "markdown",
   "metadata": {
    "collapsed": true
   },
   "source": [
    "## Exercise\n",
    "1. Reproduce the fuzzy systems studied in class, simulate their behaviour, compare your results with those discussed in class, and comment:\n",
    "    - Car acceleration problem. How would you create the system given that the current implementation does not have a default rule (it does not support the \"else\" condition)?\n",
    "    - Inverted pendulum problem. What could you say about the use of the default rule in this case?\n",
    "    - Temperature control  \n",
    "\n",
    "2. The current implementation of FIS does not have a default rule. Modify the provided implementation and add a default rule to the fuzzy inference system. Show its behaviour using the \"car acceleration problem\"\n",
    "\n",
    "3. The current implementation of FIS is of type Mamdani. Modify the sources and create a FIS of type singleton. Show its behaviour using the \"temperature control problem\". You should:\n",
    "    - create a new linguistic variable that does not interpolate between known values\n",
    "    - create a new rule which employs the new type of linguistic value in its consequent"
   ]
  }
 ],
 "metadata": {
  "kernelspec": {
   "display_name": "Python 2",
   "language": "python",
   "name": "python2"
  },
  "language_info": {
   "codemirror_mode": {
    "name": "ipython",
    "version": 2
   },
   "file_extension": ".py",
   "mimetype": "text/x-python",
   "name": "python",
   "nbconvert_exporter": "python",
   "pygments_lexer": "ipython2",
   "version": "2.7.9"
  }
 },
 "nbformat": 4,
 "nbformat_minor": 0
}
