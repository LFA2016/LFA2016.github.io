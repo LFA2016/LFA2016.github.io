{
 "cells": [
  {
   "cell_type": "markdown",
   "metadata": {},
   "source": [
    "# Fuzzy rules\n",
    "The goal of this notebook is to provide one implementation of fuzzy rule allowing you to explore the process of creation of rules in a fuzzy inference system"
   ]
  },
  {
   "cell_type": "code",
   "execution_count": null,
   "metadata": {
    "collapsed": false
   },
   "outputs": [],
   "source": [
    "import numpy as np\n",
    "import matplotlib.pyplot as pl\n",
    "from mpl_toolkits.mplot3d import Axes3D\n",
    "from matplotlib import cm\n",
    "\n",
    "%matplotlib inline"
   ]
  },
  {
   "cell_type": "markdown",
   "metadata": {},
   "source": [
    "The implementation of the linguistic variable is not written here. Instead it is loaded from a python file."
   ]
  },
  {
   "cell_type": "code",
   "execution_count": null,
   "metadata": {
    "collapsed": false
   },
   "outputs": [],
   "source": [
    "import linguistic_variable as lv"
   ]
  },
  {
   "cell_type": "markdown",
   "metadata": {},
   "source": [
    "The constructor of the provided implementation of the fuzzy rule receives 4 arguments:\n",
    "- operation: a string containing the type of fuzzy operation to compute the activation of the antecedent. Possible values are:\n",
    "    - AND_min: minimum\n",
    "    - AND_prod: product\n",
    "    - AND_bounprod: bounded product\n",
    "    - OR_max: maximum\n",
    "    - OR_probsum: probabilistic sum\n",
    "    - OR_boundsum: bounded sum\n",
    "- antecedent: a list of tuples (linguistic_variable, linguistic_value) with the antetecedent of the rule to be created. Linguistic variables are of type LinguisticVariable (in file linguistic_variable.py), linguistic values are specified by name witha string\n",
    "- consequent: a tuple (linguistic_variable, linguistic_value) with the consequent of the rule to be created. Linguistic variables are of type LinguisticVariable (in file linguistic_variable.py), linguistic values are specified by name witha string\n",
    "- implication: the implication operation to be used. Possible values are:\n",
    "    - MIN: minimum\n",
    "    - PROD: product"
   ]
  },
  {
   "cell_type": "code",
   "execution_count": null,
   "metadata": {
    "collapsed": false
   },
   "outputs": [],
   "source": [
    "class FuzzyRule:\n",
    "    \"\"\"\n",
    "    This class implements a fuzzy rule.\n",
    "    A single type of operation per rule is allowed. Yo can choose between:\n",
    "    AND - minimum\n",
    "    AND - product\n",
    "    AND - bounded product\n",
    "    OR  - maximum\n",
    "    OR  - probabilistic sum\n",
    "    OR  - bounded sum\n",
    "    \"\"\"\n",
    "    \n",
    "    __fuzzy_operations_names = {'AND_min':'AND', 'AND_prod':'AND', 'AND_boundprod':'AND', 'OR_max':'OR', 'OR_probsum':'OR', 'OR_boundsum':'OR'}\n",
    "    __fuzzy_operations = {'AND_min': np.min,\n",
    "                          'AND_prod': np.prod,\n",
    "                          'AND_boundprod': lambda x: np.max([0, np.sum(x) - 1]),\n",
    "                          'OR_max': np.max,\n",
    "                          'OR_probsum': lambda x: np.sum(x) - np.prod(x),\n",
    "                          'OR_boundsum': lambda x: np.min([1, np.sum(x)])}\n",
    "    __fuzzy_implication = {'MIN': np.minimum,\n",
    "                           'PROD': np.prod}\n",
    "    \n",
    "    def __init__(self, operation, antecedent, consequent, implication):\n",
    "        \"\"\"\n",
    "        Three parameters are needed:\n",
    "        operation: the fuzzy operation to perform\n",
    "        antecedent: a list of tuples [(linguistic_variable, linguistic_value),...] defining the input fuzzy condition\n",
    "        consequent: a tuple (linguistic_variable, linguistic_value) defining the output fuzzy assignement\n",
    "        \"\"\"\n",
    "        assert operation in self.__fuzzy_operations.keys()\n",
    "        assert implication in self.__fuzzy_implication.keys()\n",
    "        self.operation = operation\n",
    "        self.antecedent = antecedent\n",
    "        self.consequent = consequent\n",
    "        self.implication = implication\n",
    "        self.antecedent_activation = 0.0\n",
    "        self.consequent_activation = np.zeros(len(consequent[0].input_values))\n",
    "    \n",
    "    def __str__(self):\n",
    "        to_return = 'Fuzzy rule:\\n\\tIF '\n",
    "        for i, pair in enumerate(self.antecedent):\n",
    "            to_return += pair[0].name + ' IS ' + pair[1]\n",
    "            if i < (len(self.antecedent) - 1):\n",
    "                to_return += ' ' + self.__fuzzy_operations_names[self.operation] + ' '\n",
    "        to_return += '\\n\\tTHEN ' + self.consequent[0].name + ' is ' +  self.consequent[1]\n",
    "        to_return += '\\n\\tAntecedent activation: ' + str(self.antecedent_activation)\n",
    "        return to_return\n",
    "    \n",
    "    def compute_antecedent_activation(self, input_values):\n",
    "        \"\"\"\n",
    "        This function computes the activation of the antecedent of the rule.\n",
    "        The first step is the fuzzification of the input values. Then, the activation\n",
    "        is computed by applying the fuzzy operation to the values of the  membership functions.\n",
    "        \"\"\"\n",
    "        temp = []\n",
    "        for pair in self.antecedent:\n",
    "            val = input_values.get(pair[0].name)\n",
    "            if val:\n",
    "                membership_values = pair[0].fuzzify(val)\n",
    "                temp.append(membership_values[pair[1]])\n",
    "        self.antecedent_activation = self.__fuzzy_operations[self.operation](temp)\n",
    "        return self.antecedent_activation\n",
    "    \n",
    "    def compute_consequent_activation(self):\n",
    "        \"\"\"\n",
    "        This function applies the causal implication operator in order to compute\n",
    "        the activation of the rule's consequent.\n",
    "        \"\"\"\n",
    "        self.consequent_activation = self.consequent[0].get_linguistic_value(self.consequent[1])\n",
    "        self.consequent_activation = self.__fuzzy_implication[self.implication](self.antecedent_activation, self.consequent_activation)\n",
    "        return self.consequent_activation\n",
    "    \n",
    "    def plot(self):\n",
    "        pl.plot(self.consequent[0].input_values, self.consequent_activation, label=self.consequent[1])\n",
    "        pl.ylim(0, 1.05)\n",
    "        pl.legend()\n",
    "        pl.title(self.consequent[0].name)\n",
    "        pl.grid()\n",
    "\n",
    "    def plot2D(self, ax=None):\n",
    "        \"\"\"\n",
    "        Only works if the rule has two input variables!\n",
    "        \"\"\"\n",
    "        assert len(self.antecedent) == 2\n",
    "        \n",
    "        var1 = self.antecedent[0][0]\n",
    "        var2 = self.antecedent[1][0]\n",
    "        n_var1 = len(var1.input_values)\n",
    "        n_var2 = len(var2.input_values)\n",
    "        val1 = self.antecedent[0][1]\n",
    "        val2 = self.antecedent[1][1]\n",
    "        \n",
    "        membership_var1 = var1.get_linguistic_value(val1)\n",
    "        membership_var2 = var2.get_linguistic_value(val2)\n",
    "        membership_var1_2D = np.tile(membership_var1, n_var2).reshape(n_var2, n_var1)\n",
    "        membership_var2_2D = np.tile(membership_var2, n_var1).reshape(n_var1, n_var2).T\n",
    "        \n",
    "        X, Y = np.meshgrid(var1.input_values, var2.input_values)\n",
    "        Z = np.reshape(map(self.__fuzzy_operations[self.operation], zip(membership_var1_2D.flatten(), membership_var2_2D.flatten())), membership_var1_2D.shape)\n",
    "\n",
    "        if ax is None:\n",
    "            ax = pl.gca(projection='3d')\n",
    "        ax.plot(var1.input_values, np.zeros(n_var1), membership_var1, 'r--')\n",
    "        ax.plot(var1.input_values, max(var2.input_values)*np.ones(n_var1), membership_var1, 'r--')\n",
    "        ax.plot(np.zeros(n_var2), var2.input_values, membership_var2, 'b--')\n",
    "        ax.plot(max(var1.input_values)*np.ones(n_var2), var2.input_values, membership_var2, 'b--')\n",
    "        surf = ax.plot_surface(X, Y, Z, rstride=1, cstride=1, cmap=cm.coolwarm, linewidth=0, antialiased=False)\n",
    "        ax.set_xlabel(var1.name)\n",
    "        ax.set_ylabel(var2.name)\n",
    "        ax.set_zlabel(self.operation)"
   ]
  },
  {
   "cell_type": "markdown",
   "metadata": {},
   "source": [
    "## An example: \"The tourists prediction problem\"\n",
    "Let's first create the three linguistic variables involved in the problem:\n",
    "- temperature\n",
    "- sunshine\n",
    "- tourists"
   ]
  },
  {
   "cell_type": "code",
   "execution_count": null,
   "metadata": {
    "collapsed": false
   },
   "outputs": [],
   "source": [
    "temperature = lv.LinguisticVariable('temperature', 0, 30, [17, 20, 26, 29], ['cold', 'warm', 'hot'], res=1)\n",
    "sunshine = lv.LinguisticVariable('sunshine', 0, 100, [30, 50, 50, 100], ['cloudy', 'partsunny', 'sunny'], res=1)\n",
    "tourists = lv.LinguisticVariable('tourists', 0, 100, [0, 50, 50, 100], ['low', 'medium', 'high'], res=1)\n",
    "\n",
    "pl.figure(figsize=(12,4))\n",
    "pl.subplot(1,3,1)\n",
    "temperature.plot()\n",
    "pl.subplot(1,3,2)\n",
    "sunshine.plot()\n",
    "pl.subplot(1,3,3)\n",
    "tourists.plot()"
   ]
  },
  {
   "cell_type": "markdown",
   "metadata": {},
   "source": [
    "Now we can define some inputs to the rule, in order to test how it works"
   ]
  },
  {
   "cell_type": "code",
   "execution_count": null,
   "metadata": {
    "collapsed": true
   },
   "outputs": [],
   "source": [
    "input_values = {'temperature': 19, 'sunshine': 60}"
   ]
  },
  {
   "cell_type": "markdown",
   "metadata": {},
   "source": [
    "The first rule in the tourists prediction problem:"
   ]
  },
  {
   "cell_type": "code",
   "execution_count": null,
   "metadata": {
    "collapsed": false
   },
   "outputs": [],
   "source": [
    "fr_1 = FuzzyRule('OR_max', [(temperature,'hot'), (sunshine, 'sunny')], (tourists, 'high'), 'MIN')"
   ]
  },
  {
   "cell_type": "code",
   "execution_count": null,
   "metadata": {
    "collapsed": false
   },
   "outputs": [],
   "source": [
    "print fr_1"
   ]
  },
  {
   "cell_type": "code",
   "execution_count": null,
   "metadata": {
    "collapsed": false
   },
   "outputs": [],
   "source": [
    "pl.figure(figsize=(7,7))\n",
    "fr_1.plot2D()"
   ]
  },
  {
   "cell_type": "markdown",
   "metadata": {},
   "source": [
    "### Antecedent activation"
   ]
  },
  {
   "cell_type": "code",
   "execution_count": null,
   "metadata": {
    "collapsed": false
   },
   "outputs": [],
   "source": [
    "print 'Rule 1, antecedent activation: ', fr_1.compute_antecedent_activation(input_values)"
   ]
  },
  {
   "cell_type": "markdown",
   "metadata": {},
   "source": [
    "### Implication"
   ]
  },
  {
   "cell_type": "code",
   "execution_count": null,
   "metadata": {
    "collapsed": false
   },
   "outputs": [],
   "source": [
    "pl.figure(figsize=(5,4))\n",
    "fr_1.compute_consequent_activation()\n",
    "fr_1.plot()"
   ]
  },
  {
   "cell_type": "markdown",
   "metadata": {},
   "source": [
    "## Exercise\n",
    "Create the complete set of rules of the tourists prediction problem, and compute the consequent activation for several input values"
   ]
  },
  {
   "cell_type": "code",
   "execution_count": null,
   "metadata": {
    "collapsed": true
   },
   "outputs": [],
   "source": []
  }
 ],
 "metadata": {
  "kernelspec": {
   "display_name": "Python 2",
   "language": "python",
   "name": "python2"
  },
  "language_info": {
   "codemirror_mode": {
    "name": "ipython",
    "version": 2
   },
   "file_extension": ".py",
   "mimetype": "text/x-python",
   "name": "python",
   "nbconvert_exporter": "python",
   "pygments_lexer": "ipython2",
   "version": "2.7.9"
  }
 },
 "nbformat": 4,
 "nbformat_minor": 0
}
