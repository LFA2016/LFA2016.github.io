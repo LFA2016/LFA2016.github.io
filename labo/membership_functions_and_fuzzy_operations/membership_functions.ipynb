{
 "cells": [
  {
   "cell_type": "markdown",
   "metadata": {},
   "source": [
    "# Membership functions"
   ]
  },
  {
   "cell_type": "code",
   "execution_count": 1,
   "metadata": {
    "collapsed": false
   },
   "outputs": [],
   "source": [
    "import numpy as np\n",
    "import matplotlib.pyplot as pl\n",
    "\n",
    "%matplotlib inline"
   ]
  },
  {
   "cell_type": "code",
   "execution_count": 2,
   "metadata": {
    "collapsed": true
   },
   "outputs": [],
   "source": [
    "class MembershipFunction:\n",
    "    \"\"\"\n",
    "    This is a base class providing functionnalities which are common to all membership functions.\n",
    "    \"\"\"\n",
    "    def plot(self, v_min, v_max, res=0.1):\n",
    "        input_values = np.arange(v_min, v_max, res)\n",
    "        output_values = map(self, input_values)\n",
    "        pl.plot(input_values, output_values)\n",
    "        pl.ylim((0, 1.1 * max(output_values)))\n",
    "        pl.grid()"
   ]
  },
  {
   "cell_type": "markdown",
   "metadata": {},
   "source": [
    "## Some examples of membership functions"
   ]
  },
  {
   "cell_type": "markdown",
   "metadata": {},
   "source": [
    "- Common membership functions are \"crisp\" (or Boolean), \"Triangular\", and \"Trapezoidal\"."
   ]
  },
  {
   "cell_type": "code",
   "execution_count": 3,
   "metadata": {
    "collapsed": false
   },
   "outputs": [],
   "source": [
    "class CrispMF(MembershipFunction):\n",
    "    \"\"\"\n",
    "    Crisp rectangular membership function. Provided here to see the difference between crisp and fuzzy sets.\n",
    "    first_max: position of the rectangle\n",
    "    width: width of the rectangle (membership = 1)\n",
    "    \"\"\"\n",
    "    def __init__(self, first_max, width):\n",
    "        self.first_max = first_max\n",
    "        self.width = width\n",
    "    def __call__(self, value):\n",
    "        if value < self.first_max:\n",
    "            return 0.0\n",
    "        elif value > (self.first_max + self.width):\n",
    "            return 0.0\n",
    "        else:\n",
    "            return 1.0"
   ]
  },
  {
   "cell_type": "code",
   "execution_count": 4,
   "metadata": {
    "collapsed": false,
    "scrolled": true
   },
   "outputs": [
    {
     "data": {
      "image/png": "[encoded data removed]",
      "text/plain": [
       "<matplotlib.figure.Figure at 0x7f80ec9baf10>"
      ]
     },
     "metadata": {},
     "output_type": "display_data"
    }
   ],
   "source": [
    "c = CrispMF(3, 4)\n",
    "c.plot(0, 10)"
   ]
  },
  {
   "cell_type": "code",
   "execution_count": 5,
   "metadata": {
    "collapsed": true
   },
   "outputs": [],
   "source": [
    "class TriangularMF(MembershipFunction):\n",
    "    \"\"\"\n",
    "    Triangular membership function. This function implements an isosceles triangle.\n",
    "    center: position of the center of the triangle\n",
    "    width: width of the base of the rectangle\n",
    "    \"\"\"\n",
    "    def __init__(self, center, width):\n",
    "        self.center = center\n",
    "        self.width = width\n",
    "        self.half_width = width / 2.0\n",
    "        self.slope = 1.0 / self.half_width\n",
    "        \n",
    "    def __call__(self, value):\n",
    "        if value < (self.center - self.half_width):\n",
    "            return 0.0\n",
    "        elif value > (self.center + self.half_width):\n",
    "            return 0.0\n",
    "        else:\n",
    "            return 1.0 - (np.abs(value - self.center) * self.slope)\n"
   ]
  },
  {
   "cell_type": "code",
   "execution_count": 6,
   "metadata": {
    "collapsed": false
   },
   "outputs": [
    {
     "data": {
      "image/png": "[encoded data removed]",
      "text/plain": [
       "<matplotlib.figure.Figure at 0x7f80ea892710>"
      ]
     },
     "metadata": {},
     "output_type": "display_data"
    }
   ],
   "source": [
    "t = TriangularMF(3, 5)\n",
    "t.plot(0, 10)"
   ]
  },
  {
   "cell_type": "code",
   "execution_count": 7,
   "metadata": {
    "collapsed": true
   },
   "outputs": [],
   "source": [
    "class TrapezoidalMF(MembershipFunction):\n",
    "    \"\"\"\n",
    "    Trapezoidal membership function. This function implements an isosceles trapezoid.\n",
    "    first_max: position of the first point where the membership function reach one (1)\n",
    "    width_base: width of the base of the trapezoid\n",
    "    width_top: widht of the top of the trapezoid\n",
    "    \"\"\"\n",
    "    def __init__(self, first_max, width_base, width_top):\n",
    "        self.first_max = first_max\n",
    "        self.width_base = width_base\n",
    "        self.width_top = width_top\n",
    "        self.base_triangle = (width_base - width_top) / 2.0\n",
    "        self.slope = 1.0 / self.base_triangle\n",
    "    \n",
    "    def __call__(self, value):\n",
    "        if value < (self.first_max - self.base_triangle):\n",
    "            return 0.0\n",
    "        elif value < self.first_max:\n",
    "            return 1.0 - ((self.first_max - value) * self.slope)\n",
    "        elif value < (self.first_max + self.width_top):\n",
    "            return 1.0\n",
    "        elif value < (self.first_max + self.width_top + self.base_triangle):\n",
    "            return 1.0 - ((value - (self.first_max + self.width_top)) * self.slope)\n",
    "        else:\n",
    "            return 0.0"
   ]
  },
  {
   "cell_type": "code",
   "execution_count": 8,
   "metadata": {
    "collapsed": false
   },
   "outputs": [
    {
     "data": {
      "image/png": "[encoded data removed]",
      "text/plain": [
       "<matplotlib.figure.Figure at 0x7f80ea882a50>"
      ]
     },
     "metadata": {},
     "output_type": "display_data"
    }
   ],
   "source": [
    "t = TrapezoidalMF(3, 6.5, 3.5)\n",
    "t.plot(0, 10)"
   ]
  },
  {
   "cell_type": "markdown",
   "metadata": {},
   "source": [
    "- Note that \"crisp\" and \"triangular\" membership functions can be represented by means of trapezoidal MFs."
   ]
  },
  {
   "cell_type": "markdown",
   "metadata": {},
   "source": [
    "## Exercise"
   ]
  },
  {
   "cell_type": "markdown",
   "metadata": {},
   "source": [
    "- Test the functions above. Change the parameters of each membership funciton and observe the results.\n",
    "\n",
    "- Using the provided functions as starting point, implement a new trapezoidal membership function without the constraint of being isosceles. In order to test your implmentation, use your function to build a membership function with a trapezoidal shape: triangular at the left and rectangular at the right."
   ]
  },
  {
   "cell_type": "raw",
   "metadata": {},
   "source": [
    "                                            _____________\n",
    "                                           /             |\n",
    "                                          /              |\n",
    "                                         /               |\n",
    "                                  ______/                |_______"
   ]
  },
  {
   "cell_type": "markdown",
   "metadata": {},
   "source": [
    "## To further explore about membership functions... "
   ]
  },
  {
   "cell_type": "markdown",
   "metadata": {},
   "source": [
    "### Singleton MFs\n",
    "                                                 |\n",
    "                                                 |\n",
    "                                                 |\n",
    "                                  _______________|_______________\n",
    "                                  \n",
    "- A special membership function is the so-called \"singleton\", in which all the membership is \"concentrated\" in a single point.\n",
    "    - In your opinion, what is the meaning of such a function?\n",
    "    - Do you see an utility for the use of singleton membership functions?\n",
    "    \n",
    "### Smooth MFs\n",
    "- Smoother membership functions (e.g., Gaussian, exponential, or sigmoid) are also very common in fuzzy logic.\n",
    "    - In your opinion what could be the pros and cons of these smooth functions as compared to their edgier counterparts?\n",
    "\n",
    "### Arbitrary MFs\n",
    "- There is no formal need for a membership function to have a convex, coherent shape (as those explored until now). So, they could be as arbitrary as you want or need.\n",
    "    - In your opinion what could be the pros and cons of using arbitrary membership functions as compared to their well-behaved counterparts?\n"
   ]
  }
 ],
 "metadata": {
  "kernelspec": {
   "display_name": "Python 2",
   "language": "python",
   "name": "python2"
  },
  "language_info": {
   "codemirror_mode": {
    "name": "ipython",
    "version": 2
   },
   "file_extension": ".py",
   "mimetype": "text/x-python",
   "name": "python",
   "nbconvert_exporter": "python",
   "pygments_lexer": "ipython2",
   "version": "2.7.9"
  }
 },
 "nbformat": 4,
 "nbformat_minor": 0
}
